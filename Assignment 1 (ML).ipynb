{
 "cells": [
  {
   "cell_type": "markdown",
   "id": "987b57d5-c3cd-415d-8fb4-3cc62a331ba5",
   "metadata": {},
   "source": [
    "SECTION A"
   ]
  },
  {
   "cell_type": "code",
   "execution_count": 14,
   "id": "76c69e29-071c-451d-a858-8ce794281e1a",
   "metadata": {},
   "outputs": [
    {
     "name": "stdout",
     "output_type": "stream",
     "text": [
      "second largest element is: 8\n"
     ]
    }
   ],
   "source": [
    "# 1.Second largest number\n",
    "def second_largest(l):\n",
    "    if len(l)<2:\n",
    "        return \"doesn't exist\"\n",
    "    largest=0\n",
    "    second_largest=0\n",
    "    for i in l:\n",
    "        if i>largest:\n",
    "            second_largest=largest\n",
    "            largest=i\n",
    "        elif largest>i & i>second_largest:\n",
    "            second_largest=i\n",
    "    return second_largest \n",
    "l=[5,4,3,6,7,8,9,1]\n",
    "print(\"second largest element is:\",second_largest(l))"
   ]
  },
  {
   "cell_type": "code",
   "execution_count": 15,
   "id": "ddcdb172-9dc6-46ee-8642-64b70dd9e513",
   "metadata": {},
   "outputs": [
    {
     "name": "stdout",
     "output_type": "stream",
     "text": [
      "[1, 2, 3, 4, 5]\n"
     ]
    }
   ],
   "source": [
    "# 2.Remove duplicates from list\n",
    "l=[1,2,3,2,3,4,5,5]\n",
    "l1=[]\n",
    "for i in l:\n",
    "    if i not in l1:\n",
    "        l1.append(i)\n",
    "sorted_list=sorted(l1)\n",
    "print(l1)"
   ]
  },
  {
   "cell_type": "code",
   "execution_count": 16,
   "id": "90456f8e-c0db-49fc-8a51-14b774f67d04",
   "metadata": {},
   "outputs": [
    {
     "name": "stdout",
     "output_type": "stream",
     "text": [
      "sum= 36\n",
      "average= 4.5\n"
     ]
    }
   ],
   "source": [
    "# 3. Find sum and average of numbers in list\n",
    "l=[1,2,3,4,5,6,7,8]\n",
    "total=0\n",
    "for i in l:\n",
    "    total+=i\n",
    "average=total/len(l)\n",
    "print(\"sum=\",total)\n",
    "print(\"average=\",average)"
   ]
  },
  {
   "cell_type": "code",
   "execution_count": 34,
   "id": "d99c5808-8723-467a-9227-5908335fe9f1",
   "metadata": {},
   "outputs": [
    {
     "name": "stdin",
     "output_type": "stream",
     "text": [
      "Enter a number 2\n"
     ]
    },
    {
     "name": "stdout",
     "output_type": "stream",
     "text": [
      "prime number\n"
     ]
    }
   ],
   "source": [
    "# 4.Prime number\n",
    "def is_prime(n):\n",
    "    if n <= 1:\n",
    "        return False \n",
    "    for i in range(2, num):\n",
    "        if n % i == 0:\n",
    "            return False\n",
    "    return True\n",
    "num =int(input(\"Enter a number\"))\n",
    "if is_prime(num):\n",
    "    print(\"prime number\")\n",
    "else:\n",
    "    print(\" not a prime number\")\n"
   ]
  },
  {
   "cell_type": "code",
   "execution_count": 39,
   "id": "97d91210-b79a-44e9-bf50-34f69600d748",
   "metadata": {},
   "outputs": [
    {
     "name": "stdin",
     "output_type": "stream",
     "text": [
      "enter the string megha23*\n"
     ]
    },
    {
     "name": "stdout",
     "output_type": "stream",
     "text": [
      "vowels: 2\n",
      "consonants 3\n",
      "digits 2\n",
      "special charater: 1\n"
     ]
    }
   ],
   "source": [
    "# 5.Count the number of vowels, consonants, digits, and special characters in a given string.\n",
    "str=input(\"enter the string\")\n",
    "vowel=0\n",
    "consonants=0\n",
    "digits=0\n",
    "special_char=0\n",
    "vowel_char=\"aeiouAEIOU\"\n",
    "for char in str:\n",
    "    if char.isalpha():\n",
    "        if char in vowel_char:\n",
    "            vowel+=1\n",
    "        else:\n",
    "            consonants+=1\n",
    "    elif char.isdigit():\n",
    "        digits+=1\n",
    "    elif not char.isspace():\n",
    "        special_char+=1\n",
    "print(\"vowels:\",vowel)\n",
    "print(\"consonants\",consonants)\n",
    "print(\"digits\",digits)\n",
    "print(\"special charater:\",special_char)"
   ]
  },
  {
   "cell_type": "code",
   "execution_count": 41,
   "id": "7e9a8a68-1d42-47b6-b34b-181f3c666d44",
   "metadata": {},
   "outputs": [
    {
     "name": "stdout",
     "output_type": "stream",
     "text": [
      "2\n",
      "4\n",
      "6\n",
      "8\n",
      "10\n",
      "12\n",
      "14\n",
      "16\n",
      "18\n",
      "20\n",
      "22\n",
      "24\n",
      "26\n",
      "28\n",
      "30\n",
      "32\n",
      "34\n",
      "36\n",
      "38\n",
      "40\n",
      "42\n",
      "44\n",
      "46\n",
      "48\n",
      "50\n",
      "52\n",
      "54\n",
      "56\n",
      "58\n",
      "60\n",
      "62\n",
      "64\n",
      "66\n",
      "68\n",
      "70\n",
      "72\n",
      "74\n",
      "76\n",
      "78\n",
      "80\n",
      "82\n",
      "84\n",
      "86\n",
      "88\n",
      "90\n",
      "92\n",
      "94\n",
      "96\n",
      "98\n",
      "100\n"
     ]
    }
   ],
   "source": [
    "# 6.Print even numbers between 1-100\n",
    "for i in range(1,101):\n",
    "    if(i%2==0):\n",
    "        print(i)"
   ]
  },
  {
   "cell_type": "code",
   "execution_count": 51,
   "id": "24c1932a-36e7-4388-9197-a1cee8967ca0",
   "metadata": {},
   "outputs": [
    {
     "name": "stdin",
     "output_type": "stream",
     "text": [
      "enter number 5\n"
     ]
    },
    {
     "name": "stdout",
     "output_type": "stream",
     "text": [
      "5 x 1 = 5\n",
      "5 x 2 = 10\n",
      "5 x 3 = 15\n",
      "5 x 4 = 20\n",
      "5 x 5 = 25\n",
      "5 x 6 = 30\n",
      "5 x 7 = 35\n",
      "5 x 8 = 40\n",
      "5 x 9 = 45\n",
      "5 x 10 = 50\n"
     ]
    }
   ],
   "source": [
    "# 7.multiplication table of number\n",
    "n=int(input(\"enter number\"))\n",
    "for i in range (1,11):\n",
    "    print(n,\"x\",i,\"=\",(n * i))"
   ]
  },
  {
   "cell_type": "code",
   "execution_count": 53,
   "id": "56bbc5fe-15e9-4423-a0f5-f5508c6d5a58",
   "metadata": {},
   "outputs": [
    {
     "name": "stdout",
     "output_type": "stream",
     "text": [
      "[15, 30, 45, 60, 75, 90]\n"
     ]
    }
   ],
   "source": [
    "# 8.Create a list of num divisible by both 3 and 5 between 1 to 100\n",
    "l=[]\n",
    "for i in range(1,101):\n",
    "    if i%3==0 and i%5==0:\n",
    "        l.append(i)\n",
    "print(l)"
   ]
  },
  {
   "cell_type": "code",
   "execution_count": 55,
   "id": "dc397e65-e49a-4866-b52d-3aa2a5310496",
   "metadata": {},
   "outputs": [
    {
     "name": "stdin",
     "output_type": "stream",
     "text": [
      "enter num 1234\n"
     ]
    },
    {
     "name": "stdout",
     "output_type": "stream",
     "text": [
      "4321\n"
     ]
    }
   ],
   "source": [
    "# 9.Take a number input and print its reverse.\n",
    "n=input(\"enter num\")\n",
    "reverse=n[::-1]\n",
    "print(reverse)"
   ]
  },
  {
   "cell_type": "code",
   "execution_count": 58,
   "id": "34a645a1-cf69-4dd6-afd3-cec43894d665",
   "metadata": {},
   "outputs": [
    {
     "name": "stdin",
     "output_type": "stream",
     "text": [
      "Enter a string:  apple\n"
     ]
    },
    {
     "name": "stdout",
     "output_type": "stream",
     "text": [
      "{'a': 1, 'p': 2, 'l': 1, 'e': 1}\n"
     ]
    }
   ],
   "source": [
    "# 10.Count the frequency of each character in a string and store it in a dictionary.\n",
    "str = input(\"Enter a string: \")\n",
    "frequency = {}\n",
    "for i in str:\n",
    "    if i in frequency:\n",
    "        frequency[i] += 1\n",
    "    else:\n",
    "        frequency[i] = 1\n",
    "print(frequency)\n"
   ]
  },
  {
   "cell_type": "code",
   "execution_count": 59,
   "id": "c8fcb44b-5a60-4abc-9075-c2bde2320a3d",
   "metadata": {},
   "outputs": [
    {
     "name": "stdin",
     "output_type": "stream",
     "text": [
      "Enter number of prime num to generate 10\n"
     ]
    },
    {
     "name": "stdout",
     "output_type": "stream",
     "text": [
      "[2, 3, 5, 7, 11, 13, 17, 19, 23, 29]\n"
     ]
    }
   ],
   "source": [
    "# 11. Write a Python program to generate the first n prime numbers.\n",
    "n = int(input(\"Enter number of prime num to generate\"))\n",
    "primes = []\n",
    "num = 2\n",
    "while len(primes) < n:\n",
    "    is_prime = True\n",
    "    for i in range(2, num):\n",
    "        if num % i == 0:\n",
    "            is_prime = False\n",
    "    if is_prime:\n",
    "        primes.append(num)\n",
    "    num += 1\n",
    "print(primes)\n"
   ]
  },
  {
   "cell_type": "code",
   "execution_count": 61,
   "id": "4d3e6296-98e2-42e4-b76b-c0f8e900986c",
   "metadata": {},
   "outputs": [
    {
     "name": "stdin",
     "output_type": "stream",
     "text": [
      "Enter number 123\n"
     ]
    },
    {
     "name": "stdout",
     "output_type": "stream",
     "text": [
      "not a palindrome\n"
     ]
    }
   ],
   "source": [
    "# 12. Check whether a number is a palindrome or not.\n",
    "num = input(\"Enter number\")\n",
    "reverse= num[::-1]\n",
    "if num == reverse:\n",
    "    print(\"palindrome number\")\n",
    "else:\n",
    "    print(\"not a palindrome\")\n"
   ]
  },
  {
   "cell_type": "code",
   "execution_count": 66,
   "id": "3e5c0d48-46b6-46b8-b5e0-bd213de15e91",
   "metadata": {},
   "outputs": [
    {
     "name": "stdin",
     "output_type": "stream",
     "text": [
      "Enter the element to count apple\n"
     ]
    },
    {
     "name": "stdout",
     "output_type": "stream",
     "text": [
      "1\n"
     ]
    }
   ],
   "source": [
    "# 13. Count how many times a specific element appears in a list.\n",
    "l=['apple','banana']\n",
    "target = input(\"Enter the element to count\")\n",
    "count = 0\n",
    "for i in l:\n",
    "    if i == target:\n",
    "        count += 1\n",
    "print(count)"
   ]
  },
  {
   "cell_type": "code",
   "execution_count": 70,
   "id": "8a889195-eaf6-4035-b849-1a0aec3414c7",
   "metadata": {},
   "outputs": [
    {
     "name": "stdout",
     "output_type": "stream",
     "text": [
      "[4, 16, 36, 64, 100, 144, 196, 256, 324, 400, 484, 576, 676, 784, 900, 1024, 1156, 1296, 1444, 1600, 1764, 1936, 2116, 2304, 2500]\n"
     ]
    }
   ],
   "source": [
    "# 14. Create a list of squares of even numbers between 1 and 50.\n",
    "squares = []\n",
    "for i in range(1, 51):\n",
    "    if i % 2 == 0:\n",
    "        squares.append(i ** 2)\n",
    "print(squares)\n"
   ]
  },
  {
   "cell_type": "code",
   "execution_count": 76,
   "id": "d2365846-8db9-496e-8360-7f1838235279",
   "metadata": {},
   "outputs": [
    {
     "name": "stdin",
     "output_type": "stream",
     "text": [
      "Enter apple banana grapes apple\n"
     ]
    },
    {
     "name": "stdout",
     "output_type": "stream",
     "text": [
      "Original list: ['apple', 'banana', 'grapes', 'apple']\n",
      "List with unique elements: ['apple', 'banana', 'grapes']\n"
     ]
    }
   ],
   "source": [
    "# 15. Accept a list and return a new list with only unique elements (preserve order).\n",
    "l= input(\"Enter\")\n",
    "l1= l.strip().split()\n",
    "l2= []\n",
    "for i in l1:\n",
    "    if i not in l2:\n",
    "        l2.append(i)\n",
    "print(\"Original list:\", l1)\n",
    "print(\"List with unique elements:\",l2)\n"
   ]
  },
  {
   "cell_type": "markdown",
   "id": "e9bdf940-2ce3-4534-bfd4-55947c3346c6",
   "metadata": {},
   "source": [
    "SECTION B"
   ]
  },
  {
   "cell_type": "code",
   "execution_count": 80,
   "id": "a5c65431-5798-49a4-892a-6ff7f94c28d5",
   "metadata": {},
   "outputs": [
    {
     "name": "stdin",
     "output_type": "stream",
     "text": [
      "enter number 2\n"
     ]
    },
    {
     "name": "stdout",
     "output_type": "stream",
     "text": [
      "even\n"
     ]
    }
   ],
   "source": [
    "#16. Write a function to check if a number is even or odd. \n",
    "def is_even_odd(n):\n",
    "    if n%2==0:\n",
    "        print(\"even\")\n",
    "    else:\n",
    "        print(\"odd\")\n",
    "n=int(input(\"enter number\"))\n",
    "is_even_odd(n)"
   ]
  },
  {
   "cell_type": "code",
   "execution_count": 81,
   "id": "bfc6e66a-5415-4cf9-92c2-f921c407a2e1",
   "metadata": {},
   "outputs": [
    {
     "name": "stdout",
     "output_type": "stream",
     "text": [
      "Cumulative sum: [1, 3, 6, 10, 15, 21]\n"
     ]
    }
   ],
   "source": [
    "# 17. Create a function that takes a list of numbers and returns their cumulative sum.\n",
    "def cumulative_sum(numbers):\n",
    "    result = []\n",
    "    total = 0\n",
    "    for i in numbers:\n",
    "        total += i\n",
    "        result.append(total)\n",
    "    return result\n",
    "l=[1,2,3,4,5,6]\n",
    "cumulative = cumulative_sum(l)\n",
    "print(\"Cumulative sum:\", cumulative)"
   ]
  },
  {
   "cell_type": "code",
   "execution_count": 89,
   "id": "916c55dc-1767-4cf0-8b66-1842e12cb4c7",
   "metadata": {},
   "outputs": [
    {
     "name": "stdin",
     "output_type": "stream",
     "text": [
      "Enter a number 5\n"
     ]
    },
    {
     "name": "stdout",
     "output_type": "stream",
     "text": [
      "120\n"
     ]
    }
   ],
   "source": [
    "# 18. Write a recursive function to find the factorial of a number. \n",
    "def factorial(n):\n",
    "    if n == 0 or n == 1:\n",
    "        return 1\n",
    "    else:\n",
    "        return n * factorial(n - 1)\n",
    "num = int(input(\"Enter a number\" ))\n",
    "if num < 0:\n",
    "    print(\"Factorial is not defined for negative numbers.\")\n",
    "else:\n",
    "    print(factorial(num))\n"
   ]
  },
  {
   "cell_type": "code",
   "execution_count": 91,
   "id": "364b6ccf-0ed6-4e52-bbfa-f77e6828efa1",
   "metadata": {},
   "outputs": [
    {
     "name": "stdin",
     "output_type": "stream",
     "text": [
      "Enter the number 5\n"
     ]
    },
    {
     "name": "stdout",
     "output_type": "stream",
     "text": [
      "Fibonacci series:\n",
      "0 1 1 2 3 "
     ]
    }
   ],
   "source": [
    "# 19. Write a function to print the Fibonacci series up to n terms\n",
    "n = int(input(\"Enter the number\"))\n",
    "a = 0\n",
    "b = 1\n",
    "print(\"Fibonacci series:\")\n",
    "for i in range(n):\n",
    "    print(a, end=' ')\n",
    "    a, b = b, a + b"
   ]
  },
  {
   "cell_type": "code",
   "execution_count": 93,
   "id": "39d23e67-6575-4168-97e0-8610844823b1",
   "metadata": {},
   "outputs": [
    {
     "name": "stdin",
     "output_type": "stream",
     "text": [
      "Enter a string megha\n"
     ]
    },
    {
     "name": "stdout",
     "output_type": "stream",
     "text": [
      "The string is not a palindrome.\n"
     ]
    }
   ],
   "source": [
    "# 20. Define a function that checks if a given string is a palindrome.\n",
    "def is_palindrome(str):\n",
    "    return str == str[::-1]\n",
    "str = input(\"Enter a string\")\n",
    "if is_palindrome(str):\n",
    "    print(\"The string is a palindrome.\")\n",
    "else:\n",
    "    print(\"The string is not a palindrome.\")\n"
   ]
  },
  {
   "cell_type": "code",
   "execution_count": 95,
   "id": "375799db-1854-42d3-b648-2b5482e85017",
   "metadata": {},
   "outputs": [
    {
     "name": "stdout",
     "output_type": "stream",
     "text": [
      "Maximum: 34\n",
      "Minimum: 3\n"
     ]
    }
   ],
   "source": [
    "# 21. Create a function that returns the maximum and minimum elements from a list\n",
    "def find_max_min(numbers):\n",
    "    if not numbers:\n",
    "        return None,None\n",
    "    max_num = numbers[0]\n",
    "    min_num = numbers[0]\n",
    "    for num in numbers:\n",
    "        if num > max_num:\n",
    "            max_num = num\n",
    "        if num < min_num:\n",
    "            min_num = num\n",
    "    return max_num, min_num\n",
    "l=[20,3,4,5,22,34,4]\n",
    "maximum, minimum = find_max_min(l)\n",
    "print(\"Maximum:\", maximum)\n",
    "print(\"Minimum:\", minimum)\n",
    "\n"
   ]
  },
  {
   "cell_type": "code",
   "execution_count": 100,
   "id": "8b61c9f8-7154-4de7-847a-fbede5fcf131",
   "metadata": {},
   "outputs": [
    {
     "name": "stdin",
     "output_type": "stream",
     "text": [
      "Enter a sentence:  abcdefghijklmnopqrstuvwxyz\n"
     ]
    },
    {
     "name": "stdout",
     "output_type": "stream",
     "text": [
      "The string is a pangram.\n"
     ]
    }
   ],
   "source": [
    "# 22. Write a function to check whether a string is a pangram. \n",
    "def is_pangram(str):\n",
    "    alphabet = \"abcdefghijklmnopqrstuvwxyz\"\n",
    "    str=str.lower()\n",
    "    for letter in alphabet:\n",
    "        if letter not in str:\n",
    "            return False\n",
    "    return True\n",
    "str= input(\"Enter a sentence: \")\n",
    "if is_pangram(str):\n",
    "    print(\"The string is a pangram.\")\n",
    "else:\n",
    "    print(\"The string is not a pangram.\")\n"
   ]
  },
  {
   "cell_type": "code",
   "execution_count": 104,
   "id": "14b2e1e8-1213-48d2-bf20-f33a4af40ab2",
   "metadata": {},
   "outputs": [
    {
     "name": "stdin",
     "output_type": "stream",
     "text": [
      "Enter start of range:  2\n",
      "Enter end of range:  5\n"
     ]
    },
    {
     "name": "stdout",
     "output_type": "stream",
     "text": [
      "[2, 3, 5]\n"
     ]
    }
   ],
   "source": [
    "# 23. Create a function that finds and returns all prime numbers in a given range. \n",
    "def find_primes(start, end):\n",
    "    primes = []\n",
    "    for num in range(start, end + 1):\n",
    "        if num > 1:\n",
    "            is_prime = True\n",
    "            for i in range(2, int(num**0.5) + 1):\n",
    "                if num % i == 0:\n",
    "                    is_prime = False\n",
    "                    break\n",
    "            if is_prime:\n",
    "                primes.append(num)\n",
    "    return primes\n",
    "start = int(input(\"Enter start of range: \"))\n",
    "end = int(input(\"Enter end of range: \"))\n",
    "prime_numbers = find_primes(start, end)\n",
    "print(prime_numbers)"
   ]
  },
  {
   "cell_type": "code",
   "execution_count": 107,
   "id": "e73c9628-5e54-430b-9649-237378000d87",
   "metadata": {},
   "outputs": [
    {
     "name": "stdin",
     "output_type": "stream",
     "text": [
      "Enter a string:  megGSeff\n"
     ]
    },
    {
     "name": "stdout",
     "output_type": "stream",
     "text": [
      "uppercase: 2\n",
      "lowercase 6\n"
     ]
    }
   ],
   "source": [
    "# 24. Write a function to return the number of uppercase and lowercase letters in a string.\n",
    "def count_case_letters(str):\n",
    "    upper = 0\n",
    "    lower = 0\n",
    "    for char in str:\n",
    "        if char.isupper():\n",
    "            upper += 1\n",
    "        elif char.islower():\n",
    "            lower += 1\n",
    "    return upper, lower\n",
    "str= input(\"Enter a string: \")\n",
    "uppercase_count, lowercase_count = count_case_letters(str)\n",
    "print(\"uppercase:\",uppercase_count)\n",
    "print(\"lowercase\",lowercase_count)\n"
   ]
  },
  {
   "cell_type": "code",
   "execution_count": 110,
   "id": "050adce8-0f91-47d8-9a4b-b060c1b36013",
   "metadata": {},
   "outputs": [
    {
     "name": "stdin",
     "output_type": "stream",
     "text": [
      "Enter a number:  456\n"
     ]
    },
    {
     "name": "stdout",
     "output_type": "stream",
     "text": [
      "Sum of digits: 15\n"
     ]
    }
   ],
   "source": [
    "# 25. Write a function to compute the sum of digits of a number.\n",
    "num = int(input(\"Enter a number: \"))\n",
    "num = abs(num)\n",
    "total = 0\n",
    "while num > 0:\n",
    "    total += num % 10     \n",
    "    num = num // 10  \n",
    "print(\"Sum of digits:\", total)"
   ]
  },
  {
   "cell_type": "code",
   "execution_count": 111,
   "id": "b275751e-4ea7-454e-93af-9f12b8f16a77",
   "metadata": {},
   "outputs": [
    {
     "name": "stdin",
     "output_type": "stream",
     "text": [
      "Enter a sentence:  hello world\n"
     ]
    },
    {
     "name": "stdout",
     "output_type": "stream",
     "text": [
      "2\n"
     ]
    }
   ],
   "source": [
    "# 26. Write a function to count words in a sentence.\n",
    "def count_words(sentence):\n",
    "    words = sentence.strip().split()\n",
    "    return len(words)\n",
    "str = input(\"Enter a sentence: \")\n",
    "word_count = count_words(str)\n",
    "print( word_count)"
   ]
  },
  {
   "cell_type": "code",
   "execution_count": 113,
   "id": "ddd57b45-8e50-4b07-a7d8-511771462463",
   "metadata": {},
   "outputs": [
    {
     "name": "stdin",
     "output_type": "stream",
     "text": [
      "Enter a sentence:  jnerehfgeyfujcn;;;''oprjfb\n"
     ]
    },
    {
     "name": "stdout",
     "output_type": "stream",
     "text": [
      "jnerehfgeyfujcnoprjfb\n"
     ]
    }
   ],
   "source": [
    "# 27. Create a function to remove all punctuation from a string.\n",
    "str= input(\"Enter a sentence: \")\n",
    "punctuations = \"!\\\"#$%&'()*+,-./:;<=>?@[\\\\]^_`{|}~\"\n",
    "result= \"\"\n",
    "for char in str:\n",
    "    if char not in punctuations:\n",
    "        result += char\n",
    "print(result)"
   ]
  },
  {
   "cell_type": "code",
   "execution_count": 115,
   "id": "3de81324-9d09-4a5e-9b54-e0c4f8415a25",
   "metadata": {},
   "outputs": [
    {
     "name": "stdin",
     "output_type": "stream",
     "text": [
      "Enter first number:  36\n",
      "Enter second number:  60\n"
     ]
    },
    {
     "name": "stdout",
     "output_type": "stream",
     "text": [
      "GCD of 36 and 60 is: 12\n"
     ]
    }
   ],
   "source": [
    "# 28. Create a function that finds the GCD (greatest common divisor) of two numbers.\n",
    "def find_gcd(a, b):\n",
    "    while b != 0:\n",
    "        a, b = b, a % b\n",
    "    return a\n",
    "num1 = int(input(\"Enter first number: \"))\n",
    "num2 = int(input(\"Enter second number: \"))\n",
    "gcd = find_gcd(num1, num2)\n",
    "print(\"GCD of\", num1, \"and\", num2, \"is:\", gcd)"
   ]
  },
  {
   "cell_type": "code",
   "execution_count": 119,
   "id": "4c7d16dd-4a59-4a88-8b02-e55e5e7f41c2",
   "metadata": {},
   "outputs": [
    {
     "name": "stdin",
     "output_type": "stream",
     "text": [
      "enter 5 4 5 54 4  45 5 64 1 3 13\n"
     ]
    },
    {
     "name": "stdout",
     "output_type": "stream",
     "text": [
      "['5', '4']\n"
     ]
    }
   ],
   "source": [
    "# 29. Write a function that takes a list and returns only those elements that appear more than once.\n",
    "def find_duplicates(lst):\n",
    "    duplicates = []\n",
    "    for item in lst:\n",
    "        if lst.count(item) > 1 and item not in duplicates:\n",
    "            duplicates.append(item)\n",
    "    return duplicates\n",
    "l=input(\"enter\")\n",
    "elements =l.strip().split()\n",
    "result = find_duplicates(elements)\n",
    "print( result)"
   ]
  },
  {
   "cell_type": "code",
   "execution_count": 120,
   "id": "dd78360b-e912-49b0-862b-0c45a04a9d6c",
   "metadata": {},
   "outputs": [
    {
     "name": "stdin",
     "output_type": "stream",
     "text": [
      "Enter first number:  12\n",
      "Enter second number:  4\n",
      "Enter third number:  55\n"
     ]
    },
    {
     "name": "stdout",
     "output_type": "stream",
     "text": [
      "55\n"
     ]
    }
   ],
   "source": [
    "# 30. Create a function to return the largest of three numbers.\n",
    "def find_largest(a, b, c):\n",
    "    if a >= b and a >= c:\n",
    "        return a\n",
    "    elif b >= a and b >= c:\n",
    "        return b\n",
    "    else:\n",
    "        return c\n",
    "num1 = int(input(\"Enter first number: \"))\n",
    "num2 = int(input(\"Enter second number: \"))\n",
    "num3 = int(input(\"Enter third number: \"))\n",
    "largest = find_largest(num1, num2, num3)\n",
    "print( largest)\n"
   ]
  },
  {
   "cell_type": "markdown",
   "id": "54623252-ac57-416b-84a6-4290b6e26a4b",
   "metadata": {},
   "source": [
    "SECTION C"
   ]
  },
  {
   "cell_type": "code",
   "execution_count": 121,
   "id": "bfa762ba-7f40-4aa0-8d95-52aeb6eab569",
   "metadata": {},
   "outputs": [
    {
     "name": "stdin",
     "output_type": "stream",
     "text": [
      "Enter a sentence:  happy wprld\n"
     ]
    },
    {
     "name": "stdout",
     "output_type": "stream",
     "text": [
      "Words in alphabetical order:\n",
      "happy\n",
      "wprld\n"
     ]
    }
   ],
   "source": [
    "# 31. Write a program to sort words in a sentence alphabetically.\n",
    "sentence = input(\"Enter a sentence: \")\n",
    "words = sentence.split()\n",
    "words.sort()\n",
    "print(\"Words in alphabetical order:\")\n",
    "for word in words:\n",
    "    print(word)"
   ]
  },
  {
   "cell_type": "code",
   "execution_count": 123,
   "id": "add284ad-fe48-45d4-893d-e287dd2cd606",
   "metadata": {},
   "outputs": [
    {
     "name": "stdout",
     "output_type": "stream",
     "text": [
      "{'a': 1, 'b': 2, 'c': 3, 'd': 4}\n"
     ]
    }
   ],
   "source": [
    "# 32. Concatenate two dictionaries and print the result.\n",
    "dict1 = {'a': 1, 'b': 2}\n",
    "dict2 = {'c': 3, 'd': 4}\n",
    "merged_dict = dict1.copy()   \n",
    "merged_dict.update(dict2)\n",
    "print(merged_dict)\n"
   ]
  },
  {
   "cell_type": "code",
   "execution_count": 127,
   "id": "018641ed-0ecb-4dec-aa22-4433a427d697",
   "metadata": {},
   "outputs": [
    {
     "name": "stdin",
     "output_type": "stream",
     "text": [
      "Enter a sentence:  megha rajpurohit\n"
     ]
    },
    {
     "name": "stdout",
     "output_type": "stream",
     "text": [
      "2\n",
      "4\n"
     ]
    }
   ],
   "source": [
    "# 33. Count how many vowels are present in each word of a sentence. \n",
    "def count_vowels(word):\n",
    "    vowels = \"aeiouAEIOU\"\n",
    "    count = 0\n",
    "    for char in word:\n",
    "        if char in vowels:\n",
    "            count += 1\n",
    "    return count\n",
    "sentence = input(\"Enter a sentence: \")\n",
    "words = sentence.split()\n",
    "for word in words:\n",
    "    print(count_vowels(word))\n"
   ]
  },
  {
   "cell_type": "code",
   "execution_count": 129,
   "id": "b063a0a7-f876-48ce-bf08-5e7418b5db57",
   "metadata": {},
   "outputs": [
    {
     "name": "stdin",
     "output_type": "stream",
     "text": [
      "Enter elements  banana apple carrot\n"
     ]
    },
    {
     "name": "stdout",
     "output_type": "stream",
     "text": [
      "Tuple: ('banana apple carrot',)\n",
      "list: ['banana apple carrot']\n"
     ]
    }
   ],
   "source": [
    "# 34. Accept a tuple and convert it into a list.\n",
    "n= input(\"Enter elements \")\n",
    "t= tuple(n.split(\",\"))\n",
    "l = list(t)\n",
    "print(\"Tuple:\", t)\n",
    "print(\"list:\", l)\n"
   ]
  },
  {
   "cell_type": "code",
   "execution_count": 130,
   "id": "44c7b8e5-0435-4415-9e33-2b079756d41a",
   "metadata": {},
   "outputs": [
    {
     "name": "stdin",
     "output_type": "stream",
     "text": [
      "Enter a string:  python is good\n"
     ]
    },
    {
     "name": "stdout",
     "output_type": "stream",
     "text": [
      "String without whitespace: pythonisgood\n"
     ]
    }
   ],
   "source": [
    "# 35. Remove all whitespace from a given string using a function.\n",
    "def remove_whitespace(text):\n",
    "    return \"\".join(text.split())\n",
    "str = input(\"Enter a string: \")\n",
    "cleaned = remove_whitespace(str)\n",
    "print(\"String without whitespace:\", cleaned)\n"
   ]
  },
  {
   "cell_type": "code",
   "execution_count": 133,
   "id": "3f816f6e-f39f-4e5c-88d5-04d26972b803",
   "metadata": {},
   "outputs": [
    {
     "name": "stdin",
     "output_type": "stream",
     "text": [
      "Enter keys  name class grade rollnumber\n",
      "Enter values akash 12 A 9\n"
     ]
    },
    {
     "name": "stdout",
     "output_type": "stream",
     "text": [
      "{'name': 'akash', 'class': '12', 'grade': 'A', 'rollnumber': '9'}\n"
     ]
    }
   ],
   "source": [
    "# 36. Merge two lists into a dictionary using one as keys and the other as values.\n",
    "keys = input(\"Enter keys \").split()\n",
    "values = input(\"Enter values\").split()\n",
    "merged_dict = dict(zip(keys, values))\n",
    "print(merged_dict)\n"
   ]
  },
  {
   "cell_type": "code",
   "execution_count": 134,
   "id": "819bb061-c794-44c7-8c09-fe6fe98da06d",
   "metadata": {},
   "outputs": [
    {
     "name": "stdout",
     "output_type": "stream",
     "text": [
      "Key with the maximum value: b\n",
      "Maximum value: 30\n"
     ]
    }
   ],
   "source": [
    "# 37. Write a program to get the key with the maximum value in a dictionary. \n",
    "sample_dict = {\n",
    "    'a': 15,\n",
    "    'b': 30,\n",
    "    'c': 10,\n",
    "    'd': 25\n",
    "}\n",
    "max_key = max(sample_dict, key=sample_dict.get)\n",
    "\n",
    "print(\"Key with the maximum value:\", max_key)\n",
    "print(\"Maximum value:\", sample_dict[max_key])\n"
   ]
  },
  {
   "cell_type": "code",
   "execution_count": 136,
   "id": "3ecc252e-a3f9-43e8-a64a-3bfffc6aa481",
   "metadata": {},
   "outputs": [
    {
     "name": "stdin",
     "output_type": "stream",
     "text": [
      "Enter a sentence:  hey world peoplen hey\n"
     ]
    },
    {
     "name": "stdout",
     "output_type": "stream",
     "text": [
      "{'hey': 2, 'world': 1, 'peoplen': 1}\n"
     ]
    }
   ],
   "source": [
    "# 38. Accept a string and print a dictionary with word frequencies.\n",
    "str= input(\"Enter a sentence: \")\n",
    "words = str.split()\n",
    "word_freq = {}\n",
    "for word in words:\n",
    "    if word in word_freq:\n",
    "        word_freq[word] += 1\n",
    "    else:\n",
    "        word_freq[word] = 1\n",
    "print(word_freq)\n"
   ]
  },
  {
   "cell_type": "code",
   "execution_count": 137,
   "id": "b3f82ee2-665d-4eee-9364-76bda74ff99e",
   "metadata": {},
   "outputs": [
    {
     "name": "stdin",
     "output_type": "stream",
     "text": [
      "Enter the key to check:  age\n"
     ]
    },
    {
     "name": "stdout",
     "output_type": "stream",
     "text": [
      "Yes, the key 'age' exists in the dictionary.\n"
     ]
    }
   ],
   "source": [
    "# 39. Write a program to check if a key exists in a dictionary.\n",
    "my_dict = {\n",
    "    'name': 'Alice',\n",
    "    'age': 25,\n",
    "    'city': 'Delhi'\n",
    "}\n",
    "key_to_check = input(\"Enter the key to check: \")\n",
    "if key_to_check in my_dict:\n",
    "    print(f\"Yes, the key '{key_to_check}' exists in the dictionary.\")\n",
    "else:\n",
    "    print(f\"No, the key '{key_to_check}' does not exist in the dictionary.\")\n"
   ]
  },
  {
   "cell_type": "code",
   "execution_count": 138,
   "id": "dcb92004-4bf8-44fb-b576-78d4204d9c70",
   "metadata": {},
   "outputs": [
    {
     "name": "stdin",
     "output_type": "stream",
     "text": [
      "Enter a string:  hello world\n"
     ]
    },
    {
     "name": "stdout",
     "output_type": "stream",
     "text": [
      "String after replacing vowels: h*ll* w*rld\n"
     ]
    }
   ],
   "source": [
    "# 40. Write a program to replace all the vowels in a string with '*'.\n",
    "def replace_vowels(text):\n",
    "    vowels = \"aeiouAEIOU\"\n",
    "    result = \"\"\n",
    "    for char in text:\n",
    "        if char in vowels:\n",
    "            result += '*'\n",
    "        else:\n",
    "            result += char\n",
    "    return result\n",
    "str = input(\"Enter a string: \")\n",
    "output = replace_vowels(str)\n",
    "print(\"String after replacing vowels:\", output)\n"
   ]
  },
  {
   "cell_type": "markdown",
   "id": "3b80665a-e830-4e48-a784-eafdc61d894a",
   "metadata": {},
   "source": [
    "SECTION D"
   ]
  },
  {
   "cell_type": "code",
   "execution_count": 139,
   "id": "ee4a7325-fde8-4613-b222-fa28026c11cb",
   "metadata": {},
   "outputs": [
    {
     "name": "stdin",
     "output_type": "stream",
     "text": [
      "Enter the filename (with extension):  example.txt\n"
     ]
    },
    {
     "name": "stdout",
     "output_type": "stream",
     "text": [
      "File not found. Please check the file name and try again.\n"
     ]
    }
   ],
   "source": [
    "# 41. Write a Python program to read the contents of a file and display it.\n",
    "filename = input(\"Enter the filename (with extension): \")\n",
    "try:\n",
    "    with open(filename, 'r') as file:\n",
    "        content = file.read()\n",
    "        print(content)\n",
    "except FileNotFoundError:\n",
    "    print(\"File not found. Please check the file name and try again.\")\n"
   ]
  },
  {
   "cell_type": "code",
   "execution_count": 152,
   "id": "a19c6388-9289-4aac-b2d4-7296d4c58ad8",
   "metadata": {},
   "outputs": [
    {
     "name": "stdin",
     "output_type": "stream",
     "text": [
      "Enter the filename (with extension):  expamle.txt\n"
     ]
    },
    {
     "name": "stdout",
     "output_type": "stream",
     "text": [
      "File not found. Please check the filename and try again.\n"
     ]
    }
   ],
   "source": [
    "# 42. Count the number of words in a file. \n",
    "filename = input(\"Enter the filename (with extension): \")\n",
    "try:\n",
    "    with open(filename, 'r') as file:\n",
    "        content = file.read()\n",
    "        words = content.split()\n",
    "        word_count = len(words)\n",
    "        print(\"Total number of words in the file:\", word_count)\n",
    "except FileNotFoundError:\n",
    "    print(\"File not found. Please check the filename and try again.\")\n"
   ]
  },
  {
   "cell_type": "code",
   "execution_count": null,
   "id": "9c0ee520-85fc-4db2-a270-09a9199f4814",
   "metadata": {},
   "outputs": [],
   "source": [
    "# 43. Copy contents of one file to another\n",
    "sourcefile= input(\"Enter the filename (with extension): \")\n",
    "destinationfile= input(\"Enter the filename (with extension): \")\n",
    "source_file = open(sourcefile, \"r\")\n",
    "destination_file = open(destinationfile, \"w\")\n",
    "for line in source_file:\n",
    "    destination_file.write(line)\n",
    "source_file.close()\n",
    "destination_file.close()\n",
    "print(\"File copied successfully!\")"
   ]
  },
  {
   "cell_type": "code",
   "execution_count": null,
   "id": "793e8d34-0872-4223-ae87-d34ec8792d69",
   "metadata": {},
   "outputs": [],
   "source": [
    "# 44. Print only the lines that have more than 50 characters from a text file. \n",
    "filename = input(\"Enter the filename (with extension): \")\n",
    "file = open(filename , \"r\")\n",
    "for line in file:\n",
    "    if len(line.strip()) > 50:\n",
    "        print(line.strip())\n",
    "file.close()\n"
   ]
  },
  {
   "cell_type": "code",
   "execution_count": null,
   "id": "c94fa3c1-af58-413a-a8eb-a6e2cf7742b9",
   "metadata": {},
   "outputs": [],
   "source": [
    "# 45. Write a program to write a list of strings into a text file (one string per line). \n",
    "lines = [\"Python is fun\", \"Files are easy to handle\", \"This will be written to a file\"]\n",
    "filename = input(\"Enter the filename (with extension): \")\n",
    "file = open(filename, \"w\")\n",
    "for line in lines:\n",
    "    file.write(line + \"\\n\")\n",
    "file.close()\n",
    "print(\"List of strings written to output.txt successfully!\")\n"
   ]
  },
  {
   "cell_type": "markdown",
   "id": "d86d4dd7-0693-4042-bea8-d9ffc61039ce",
   "metadata": {},
   "source": [
    "SECTION E"
   ]
  },
  {
   "cell_type": "code",
   "execution_count": 156,
   "id": "57367cf2-029c-42e3-a044-9a893b07c31a",
   "metadata": {},
   "outputs": [
    {
     "name": "stdin",
     "output_type": "stream",
     "text": [
      "Enter the numerator:  45\n",
      "Enter the denominator:  0\n"
     ]
    },
    {
     "name": "stdout",
     "output_type": "stream",
     "text": [
      "Error: Cannot divide by zero!\n"
     ]
    }
   ],
   "source": [
    "# 46. Write a program to take two numbers as input and handle division by zero.\n",
    "num1 = float(input(\"Enter the numerator: \"))\n",
    "num2 = float(input(\"Enter the denominator: \"))\n",
    "try:\n",
    "    result = num1 / num2\n",
    "    print(\"Result:\", result)\n",
    "except ZeroDivisionError:\n",
    "    print(\"Error: Cannot divide by zero!\")"
   ]
  },
  {
   "cell_type": "code",
   "execution_count": 157,
   "id": "4e6e7f95-b4b8-45e7-ab7e-e132f7b2c51a",
   "metadata": {},
   "outputs": [
    {
     "name": "stdin",
     "output_type": "stream",
     "text": [
      "Enter a number:  54\n"
     ]
    },
    {
     "name": "stdout",
     "output_type": "stream",
     "text": [
      "You entered: 54.0\n"
     ]
    }
   ],
   "source": [
    "# 47. Handle invalid user input (e.g., entering a string when a number is expected). \n",
    "try:\n",
    "    num = float(input(\"Enter a number: \"))\n",
    "    print(\"You entered:\", num)\n",
    "except ValueError:\n",
    "    print(\"Invalid input! Please enter a valid number.\")\n"
   ]
  },
  {
   "cell_type": "code",
   "execution_count": 159,
   "id": "07771c72-9e34-457c-bcdc-793d0836f524",
   "metadata": {},
   "outputs": [
    {
     "name": "stdin",
     "output_type": "stream",
     "text": [
      "Enter the file name to open:  example.txt\n"
     ]
    },
    {
     "name": "stdout",
     "output_type": "stream",
     "text": [
      "Error: The file does not exist.\n"
     ]
    }
   ],
   "source": [
    "# 48. Try to open a file that doesn’t exist and handle the FileNotFoundError. \n",
    "filename = input(\"Enter the file name to open: \")\n",
    "try:\n",
    "    with open(filename, \"r\") as file:\n",
    "        content = file.read()\n",
    "        print(\"File content:\\n\", content)\n",
    "except FileNotFoundError:\n",
    "    print(\"Error: The file does not exist.\")\n"
   ]
  },
  {
   "cell_type": "code",
   "execution_count": 160,
   "id": "088b6bb2-c897-48a6-b678-5b68876918e3",
   "metadata": {},
   "outputs": [
    {
     "name": "stdin",
     "output_type": "stream",
     "text": [
      "Enter an index to access:  0\n"
     ]
    },
    {
     "name": "stdout",
     "output_type": "stream",
     "text": [
      "Value at index 0 is: 10\n"
     ]
    }
   ],
   "source": [
    "# 49. Create a list of numbers and try accessing an invalid index. Handle the exception gracefully.\n",
    "numbers = [10, 20, 30, 40, 50]\n",
    "try:\n",
    "    index = int(input(\"Enter an index to access: \"))\n",
    "    print(\"Value at index\", index, \"is:\", numbers[index])\n",
    "except IndexError:\n",
    "    print(\"Error: That index is out of range.\")\n",
    "except ValueError:\n",
    "    print(\"Error: Please enter a valid integer.\")\n"
   ]
  },
  {
   "cell_type": "code",
   "execution_count": 161,
   "id": "d21f6d3d-21d3-43c8-b75d-30462429c9cf",
   "metadata": {},
   "outputs": [
    {
     "name": "stdin",
     "output_type": "stream",
     "text": [
      "Enter numerator:  45\n",
      "Enter denominator:  4\n"
     ]
    },
    {
     "name": "stdout",
     "output_type": "stream",
     "text": [
      "Result: 11.25\n",
      "This is the finally block. It always runs.\n"
     ]
    }
   ],
   "source": [
    "# 50. Use a try-except-finally block to demonstrate the execution of the finally clause.\n",
    "def divide_numbers(a, b):\n",
    "    try:\n",
    "        result = a / b\n",
    "        print(\"Result:\", result)\n",
    "    except ZeroDivisionError:\n",
    "        print(\"Error: Cannot divide by zero.\")\n",
    "    finally:\n",
    "        print(\"This is the finally block. It always runs.\")\n",
    "\n",
    "# Test the function\n",
    "num1 = int(input(\"Enter numerator: \"))\n",
    "num2 = int(input(\"Enter denominator: \"))\n",
    "divide_numbers(num1, num2)\n"
   ]
  },
  {
   "cell_type": "code",
   "execution_count": null,
   "id": "f71b8018-160a-430a-8a74-489d333dff14",
   "metadata": {},
   "outputs": [],
   "source": []
  }
 ],
 "metadata": {
  "kernelspec": {
   "display_name": "Python [conda env:base] *",
   "language": "python",
   "name": "conda-base-py"
  },
  "language_info": {
   "codemirror_mode": {
    "name": "ipython",
    "version": 3
   },
   "file_extension": ".py",
   "mimetype": "text/x-python",
   "name": "python",
   "nbconvert_exporter": "python",
   "pygments_lexer": "ipython3",
   "version": "3.12.7"
  }
 },
 "nbformat": 4,
 "nbformat_minor": 5
}
