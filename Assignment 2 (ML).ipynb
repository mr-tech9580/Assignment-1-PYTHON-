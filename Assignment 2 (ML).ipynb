{
 "cells": [
  {
   "cell_type": "markdown",
   "id": "ddf82d4b-87e1-4abc-bde8-f1382a4273f5",
   "metadata": {},
   "source": [
    "DATATYPES AND ATTRIBUTES"
   ]
  },
  {
   "cell_type": "code",
   "execution_count": 2,
   "id": "877eccfa-195c-4f3b-ada3-d3823da5bc12",
   "metadata": {},
   "outputs": [
    {
     "name": "stdout",
     "output_type": "stream",
     "text": [
      "[0 1 2 3 4 5]\n",
      "int32\n"
     ]
    }
   ],
   "source": [
    "# 1. Create a NumPy array arr of integers from 0 to 5 and print its data type. \n",
    "import numpy as np\n",
    "arr = np.arange(6)\n",
    "print( arr)\n",
    "print(arr.dtype)"
   ]
  },
  {
   "cell_type": "code",
   "execution_count": 28,
   "id": "0a571a90-f00f-42c4-b5e5-d51c5d78d521",
   "metadata": {},
   "outputs": [
    {
     "name": "stdout",
     "output_type": "stream",
     "text": [
      "The array's data type is not float64.\n"
     ]
    }
   ],
   "source": [
    "# 2. Given a NumPy array arr, check if its data type is float64. \n",
    "arr = np.array(6)\n",
    "if arr.dtype == np.float64:\n",
    "    print(\"The array's data type is float64.\")\n",
    "else:\n",
    "    print(\"The array's data type is not float64.\")\n"
   ]
  },
  {
   "cell_type": "code",
   "execution_count": 29,
   "id": "4737adc8-1033-4f64-aed6-3d6d39b10b9e",
   "metadata": {},
   "outputs": [
    {
     "name": "stdout",
     "output_type": "stream",
     "text": [
      "[1.+2.j 3.+4.j 5.+6.j]\n",
      "complex128\n"
     ]
    }
   ],
   "source": [
    "# 3. Create a NumPy array arr with a data type of complex128 containing three complex numbers. \n",
    "arr = np.array([1+2j, 3+4j, 5+6j], dtype=np.complex128)\n",
    "print( arr)\n",
    "print(arr.dtype)\n"
   ]
  },
  {
   "cell_type": "code",
   "execution_count": 30,
   "id": "1806f1c1-32c5-4782-82e0-9e35d4c4f6b1",
   "metadata": {},
   "outputs": [
    {
     "name": "stdout",
     "output_type": "stream",
     "text": [
      "[1. 2. 3. 4. 5.]\n",
      "float32\n"
     ]
    }
   ],
   "source": [
    "# 4. Convert an existing NumPy array arr of integers to float32 data type. \n",
    "arr = np.array([1, 2, 3, 4, 5])\n",
    "arr_float = arr.astype(np.float32)\n",
    "print(arr_float)\n",
    "print(arr_float.dtype)\n"
   ]
  },
  {
   "cell_type": "code",
   "execution_count": 31,
   "id": "1465e7f0-7fce-4cab-9556-b81676253337",
   "metadata": {},
   "outputs": [
    {
     "name": "stdout",
     "output_type": "stream",
     "text": [
      "[1.1234568 2.9876542 3.1415927]\n",
      "float32\n"
     ]
    }
   ],
   "source": [
    "# 5. Given a NumPy array arr with float64 data type, convert it to float32 to reduce decimal precision. \n",
    "arr = np.array([1.123456789, 2.987654321, 3.1415926535], dtype=np.float64)\n",
    "arr_float32 = arr.astype(np.float32)\n",
    "print(arr_float32)\n",
    "print(arr_float32.dtype)\n"
   ]
  },
  {
   "cell_type": "code",
   "execution_count": 32,
   "id": "d716dd33-5028-43d5-80a7-43d56464e5d8",
   "metadata": {},
   "outputs": [
    {
     "name": "stdout",
     "output_type": "stream",
     "text": [
      "(2, 3)\n",
      "6\n",
      "int32\n"
     ]
    }
   ],
   "source": [
    "# 6. Write a function array_attributes that takes a NumPy array as input and returns its shape, size, and data type.\n",
    "def array_attributes(arr):\n",
    "    shape = arr.shape     \n",
    "    size = arr.size       \n",
    "    dtype = arr.dtype      \n",
    "    return shape, size, dtype\n",
    "arr = np.array([[1, 2, 3], [4, 5, 6]])\n",
    "shape, size, dtype = array_attributes(arr)\n",
    "print(shape)\n",
    "print(size)\n",
    "print(dtype)"
   ]
  },
  {
   "cell_type": "code",
   "execution_count": 33,
   "id": "397838b0-50c3-4a5f-92bc-1278f636a679",
   "metadata": {},
   "outputs": [
    {
     "name": "stdout",
     "output_type": "stream",
     "text": [
      "1\n"
     ]
    }
   ],
   "source": [
    "# 7. Create a function array_dimension that returns the dimensionality of a NumPy array. \n",
    "def array_dimension(arr):\n",
    "    return arr.ndim \n",
    "arr1 = np.array([1, 2, 3])\n",
    "print(array_dimension(arr1)) "
   ]
  },
  {
   "cell_type": "code",
   "execution_count": 34,
   "id": "160df6d4-8985-4b3c-828f-c4084af984df",
   "metadata": {},
   "outputs": [
    {
     "name": "stdout",
     "output_type": "stream",
     "text": [
      "item size = 4\n",
      "total size = 24\n"
     ]
    }
   ],
   "source": [
    "# 8. Design a function item_size_info that returns the item size and total size in bytes of a NumPy array.\n",
    "def item_size_info(arr):\n",
    "    item_size = arr.itemsize         \n",
    "    total_size = arr.nbytes         \n",
    "    return item_size, total_size\n",
    "arr = np.array([[1, 2, 3], [4, 5, 6]], dtype=np.int32)\n",
    "item_size, total_size = item_size_info(arr)\n",
    "print(\"item size =\",item_size)\n",
    "print(\"total size =\",total_size)"
   ]
  },
  {
   "cell_type": "code",
   "execution_count": 26,
   "id": "41516b80-136d-4558-a996-5d1dfd20b20b",
   "metadata": {},
   "outputs": [
    {
     "name": "stdout",
     "output_type": "stream",
     "text": [
      "(12, 4)\n"
     ]
    }
   ],
   "source": [
    "# 9. Create a function array_strides that returns the strides of the given NumPy array. \n",
    "import numpy as np\n",
    "def array_strides(arr):\n",
    "    return arr.strides\n",
    "arr = np.array([[1, 2, 3], [4, 5, 6]], dtype=np.int32)\n",
    "strides = array_strides(arr)\n",
    "print(strides)\n"
   ]
  },
  {
   "cell_type": "code",
   "execution_count": 35,
   "id": "857fbdf1-2973-4f4c-a5f7-799efa43fc75",
   "metadata": {},
   "outputs": [
    {
     "name": "stdout",
     "output_type": "stream",
     "text": [
      "(2, 3)\n",
      "(12, 4)\n"
     ]
    }
   ],
   "source": [
    "# 10. Design a function shape_stride_relationship that returns the shape and strides of the given array. \n",
    "def shape_stride_relationship(arr):\n",
    "    return arr.shape, arr.strides\n",
    "arr = np.array([[10, 20, 30], [40, 50, 60]], dtype=np.int32)\n",
    "shape, strides = shape_stride_relationship(arr)\n",
    "print(shape)\n",
    "print(strides)\n"
   ]
  },
  {
   "cell_type": "markdown",
   "id": "28d241c4-8563-4382-8d60-e77d98bd1708",
   "metadata": {},
   "source": [
    "ARRAY CREATION"
   ]
  },
  {
   "cell_type": "code",
   "execution_count": 37,
   "id": "8339a52a-f088-406a-b48b-4f308d787ac0",
   "metadata": {},
   "outputs": [
    {
     "name": "stdout",
     "output_type": "stream",
     "text": [
      "[0. 0. 0. 0. 0.]\n"
     ]
    }
   ],
   "source": [
    "# 11. Create a function create_zeros_array(n) to return a NumPy array of zeros with n elements. \n",
    "def create_zeros_array(n):\n",
    "    return np.zeros(n)\n",
    "zeros_array = create_zeros_array(5)\n",
    "print(zeros_array)\n"
   ]
  },
  {
   "cell_type": "code",
   "execution_count": 38,
   "id": "8ef3e063-e8a5-4663-8df3-a2a83be4065b",
   "metadata": {},
   "outputs": [
    {
     "name": "stdout",
     "output_type": "stream",
     "text": [
      "[[1. 1. 1. 1.]\n",
      " [1. 1. 1. 1.]\n",
      " [1. 1. 1. 1.]]\n"
     ]
    }
   ],
   "source": [
    "# 12. Write a function create_ones_matrix(rows, cols) to create a 2D array filled with ones.\n",
    "def create_ones_matrix(rows, cols):\n",
    "    return np.ones((rows, cols))\n",
    "ones_matrix = create_ones_matrix(3, 4)\n",
    "print(ones_matrix)"
   ]
  },
  {
   "cell_type": "code",
   "execution_count": 39,
   "id": "89b533cc-6bd7-4bca-9782-3d0618cd6bfc",
   "metadata": {},
   "outputs": [
    {
     "name": "stdout",
     "output_type": "stream",
     "text": [
      "[0 2 4 6 8]\n"
     ]
    }
   ],
   "source": [
    "# 13. Write a function generate_range_array(start, stop, step) to create a ranged NumPy array\n",
    "def generate_range_array(start, stop, step):\n",
    "    return np.arange(start, stop, step)\n",
    "range_array = generate_range_array(0, 10, 2)\n",
    "print(range_array)"
   ]
  },
  {
   "cell_type": "code",
   "execution_count": 40,
   "id": "ef5272ba-5b4f-46cf-93cb-7f8714047147",
   "metadata": {},
   "outputs": [
    {
     "name": "stdout",
     "output_type": "stream",
     "text": [
      "[0.   0.25 0.5  0.75 1.  ]\n"
     ]
    }
   ],
   "source": [
    "# 14. Design a function generate_linear_space(start, stop, num) for equally spaced values. \n",
    "def generate_linear_space(start, stop, num):\n",
    "    return np.linspace(start, stop, num)\n",
    "linear_array = generate_linear_space(0, 1, 5)\n",
    "print(linear_array)"
   ]
  },
  {
   "cell_type": "code",
   "execution_count": 42,
   "id": "fdae0a49-f37a-4221-8560-31d2e7aba509",
   "metadata": {},
   "outputs": [
    {
     "name": "stdout",
     "output_type": "stream",
     "text": [
      "[[1. 0. 0. 0.]\n",
      " [0. 1. 0. 0.]\n",
      " [0. 0. 1. 0.]\n",
      " [0. 0. 0. 1.]]\n"
     ]
    }
   ],
   "source": [
    "# 15. Create a function create_identity_matrix(n) using numpy.eye. \n",
    "def create_identity_matrix(n):\n",
    "    return np.eye(n)\n",
    "# Example usage:\n",
    "matrix = create_identity_matrix(4)\n",
    "print(matrix)"
   ]
  },
  {
   "cell_type": "code",
   "execution_count": 43,
   "id": "42ecb3f7-6f33-47b9-adf6-f50f5d3e8d0a",
   "metadata": {},
   "outputs": [
    {
     "name": "stdout",
     "output_type": "stream",
     "text": [
      "[1 2 3 4 5]\n"
     ]
    }
   ],
   "source": [
    "# 16. Write a function that converts a Python list into a NumPy array.\n",
    "def list_to_numpy_array(py_list):\n",
    "    return np.array(py_list)\n",
    "my_list = [1, 2, 3, 4, 5]\n",
    "array = list_to_numpy_array(my_list)\n",
    "print(array)"
   ]
  },
  {
   "cell_type": "code",
   "execution_count": 45,
   "id": "9d0981ad-5a15-4d1d-b440-e062d23d87f9",
   "metadata": {},
   "outputs": [
    {
     "name": "stdout",
     "output_type": "stream",
     "text": [
      "[10 20 30 40 50]\n",
      "[10 20 30 40 50]\n"
     ]
    }
   ],
   "source": [
    "# 17. Create a NumPy array and use numpy.view() to create a new view with the same data. \n",
    "def create_array_and_view():\n",
    "    original_array = np.array([10, 20, 30, 40, 50])\n",
    "    view_array = original_array.view()\n",
    "    return original_array, view_array\n",
    "orig, view = create_array_and_view()\n",
    "print(orig)\n",
    "print(view)"
   ]
  },
  {
   "cell_type": "markdown",
   "id": "7b2dfed5-ce0c-48de-b89b-0cfa1e57d627",
   "metadata": {},
   "source": [
    "CONCATENATION AND STACKING"
   ]
  },
  {
   "cell_type": "code",
   "execution_count": 49,
   "id": "f2591823-9f63-4f29-ae44-f9d022daec01",
   "metadata": {},
   "outputs": [
    {
     "name": "stdout",
     "output_type": "stream",
     "text": [
      "[[1 2]\n",
      " [3 4]\n",
      " [5 6]\n",
      " [7 8]]\n",
      "[[1 2 5 6]\n",
      " [3 4 7 8]]\n"
     ]
    }
   ],
   "source": [
    "# 18. Write a function to concatenate two NumPy arrays along a specified axis. \n",
    "def concatenate_arrays(arr1, arr2, axis=0):\n",
    "    try:\n",
    "        result = np.concatenate((arr1, arr2), axis=axis)\n",
    "        return result\n",
    "    except ValueError as e:\n",
    "        print(f\"Error: {e}\")\n",
    "        return None\n",
    "a = np.array([[1, 2], [3, 4]])\n",
    "b = np.array([[5, 6], [7, 8]])\n",
    "print(concatenate_arrays(a, b, axis=0))\n",
    "print(concatenate_arrays(a, b, axis=1))"
   ]
  },
  {
   "cell_type": "code",
   "execution_count": 50,
   "id": "39db6e87-0c1c-4137-b4d3-7b2a14ca07e8",
   "metadata": {},
   "outputs": [
    {
     "name": "stdout",
     "output_type": "stream",
     "text": [
      "[[1 2 5]\n",
      " [3 4 6]]\n"
     ]
    }
   ],
   "source": [
    "# 19. Concatenate two arrays with different shapes horizontally using numpy.concatenate. \n",
    "a = np.array([[1, 2],\n",
    "              [3, 4]])\n",
    "\n",
    "b = np.array([[5],\n",
    "              [6]])\n",
    "result = np.concatenate((a, b), axis=1)\n",
    "print(result)"
   ]
  },
  {
   "cell_type": "code",
   "execution_count": 51,
   "id": "bd9b7d72-e894-4d45-8a5b-81c47aa4498a",
   "metadata": {},
   "outputs": [
    {
     "name": "stdout",
     "output_type": "stream",
     "text": [
      "[[1 2]\n",
      " [3 4]\n",
      " [5 6]]\n"
     ]
    }
   ],
   "source": [
    "# 20. Vertically stack multiple arrays from a list using numpy.vstack. \n",
    "def vertical_stack_arrays(array_list):\n",
    "    try:\n",
    "        return np.vstack(array_list)\n",
    "    except ValueError as e:\n",
    "        print(f\"Error: {e}\")\n",
    "        return None\n",
    "a = np.array([[1, 2]])\n",
    "b = np.array([[3, 4]])\n",
    "c = np.array([[5, 6]])\n",
    "result = vertical_stack_arrays([a, b, c])\n",
    "print(result)"
   ]
  },
  {
   "cell_type": "markdown",
   "id": "9f3b681a-af29-4152-910d-94793d83c0ec",
   "metadata": {},
   "source": [
    "ARRAY GENERATION"
   ]
  },
  {
   "cell_type": "code",
   "execution_count": 53,
   "id": "65063aba-7fe3-45e1-84d9-87f663473d01",
   "metadata": {},
   "outputs": [
    {
     "name": "stdout",
     "output_type": "stream",
     "text": [
      "[1 3 5 7 9]\n",
      "[10  7  4  1]\n"
     ]
    }
   ],
   "source": [
    "# 21. Write a function to generate an array of integers within a specified range (inclusive) with a step.\n",
    "def generate_integer_range(start, stop, step=1):\n",
    "    if step == 0:\n",
    "        raise ValueError(\"Step cannot be zero.\")\n",
    "    if (step > 0 and stop < start) or (step < 0 and stop > start):\n",
    "        return np.array([], dtype=int)\n",
    "    return np.arange(start, stop + (1 if step > 0 else -1), step)\n",
    "print(generate_integer_range(1, 10, 2))   \n",
    "print(generate_integer_range(10, 1, -3))  \n"
   ]
  },
  {
   "cell_type": "code",
   "execution_count": 55,
   "id": "7bbbf82d-777d-486c-bdb3-0d9eb193a6bd",
   "metadata": {},
   "outputs": [
    {
     "name": "stdout",
     "output_type": "stream",
     "text": [
      "[0.         0.11111111 0.22222222 0.33333333 0.44444444 0.55555556\n",
      " 0.66666667 0.77777778 0.88888889 1.        ]\n"
     ]
    }
   ],
   "source": [
    "# 22. Generate 10 equally spaced values between 0 and 1 using NumPy. \n",
    "values = np.linspace(0, 1, 10)\n",
    "print(values)"
   ]
  },
  {
   "cell_type": "code",
   "execution_count": 56,
   "id": "16138e98-3214-4764-90c8-a5c93a1fa8c4",
   "metadata": {},
   "outputs": [
    {
     "name": "stdout",
     "output_type": "stream",
     "text": [
      "[   1.            5.62341325   31.6227766   177.827941   1000.        ]\n"
     ]
    }
   ],
   "source": [
    "# 23. Create 5 logarithmically spaced values between 1 and 1000.\n",
    "values = np.logspace(start=0, stop=3, num=5)\n",
    "print(values)"
   ]
  },
  {
   "cell_type": "markdown",
   "id": "df20eab4-0758-4c55-ad65-7ab95004b431",
   "metadata": {},
   "source": [
    "PANDAS + NUMPY"
   ]
  },
  {
   "cell_type": "code",
   "execution_count": 57,
   "id": "9e4bfdab-ebff-4203-b1af-92fd75937f5f",
   "metadata": {},
   "outputs": [
    {
     "name": "stdout",
     "output_type": "stream",
     "text": [
      "    A   B   C\n",
      "0  73  88  66\n",
      "1  42  73  81\n",
      "2  60  66  27\n",
      "3  13  56   3\n",
      "4  23  53  42\n"
     ]
    }
   ],
   "source": [
    "# 24. Create a Pandas DataFrame from a NumPy array with 5 rows and 3 columns of random integers (1-100).\n",
    "import pandas as pd\n",
    "data = np.random.randint(1, 101, size=(5, 3))\n",
    "df = pd.DataFrame(data, columns=['A', 'B', 'C'])\n",
    "print(df)"
   ]
  },
  {
   "cell_type": "code",
   "execution_count": 60,
   "id": "f9353487-e2da-466c-a5eb-b8090a26a88d",
   "metadata": {},
   "outputs": [
    {
     "name": "stdout",
     "output_type": "stream",
     "text": [
      "[[ 5  0  7]\n",
      " [-1  4 -6]\n",
      " [ 8  0 10]]\n"
     ]
    }
   ],
   "source": [
    "# 25. Write a function to replace all negative values in a specific column with zeros using NumPy. \n",
    "def replace_negatives_in_column(arr, column_index):\n",
    "    if arr.ndim != 2:    \n",
    "        raise ValueError(\"Input array must be 2D.\")\n",
    "    if column_index < 0 or column_index >= arr.shape[1]:\n",
    "        raise IndexError(\"Column index out of bounds.\")\n",
    "    modified_arr = arr.copy()\n",
    "    modified_arr[modified_arr[:, column_index] < 0, column_index] = 0\n",
    "    return modified_arr\n",
    "arr = np.array([[ 5, -3,  7],\n",
    "                [-1,  4, -6],\n",
    "                [ 8, -9, 10]])\n",
    "result = replace_negatives_in_column(arr, 1)\n",
    "print(result)\n"
   ]
  },
  {
   "cell_type": "markdown",
   "id": "614b6634-9a4e-473c-b84c-1be0922b07d0",
   "metadata": {},
   "source": [
    "INDEXING AND SLICING"
   ]
  },
  {
   "cell_type": "code",
   "execution_count": 61,
   "id": "a4a9e2b2-b45a-400b-bc6a-5476c8068f77",
   "metadata": {},
   "outputs": [
    {
     "name": "stdout",
     "output_type": "stream",
     "text": [
      "30\n"
     ]
    }
   ],
   "source": [
    "# 26. Access the 3rd element from the given NumPy array.\n",
    "arr = np.array([10, 20, 30, 40, 50])\n",
    "third_element = arr[2]\n",
    "print(third_element)"
   ]
  },
  {
   "cell_type": "code",
   "execution_count": 62,
   "id": "7b183aa4-76c1-4658-841a-342534904f34",
   "metadata": {},
   "outputs": [
    {
     "name": "stdout",
     "output_type": "stream",
     "text": [
      "60\n"
     ]
    }
   ],
   "source": [
    "# 27. Retrieve the element at index (1, 2) from a 2D array. \n",
    "arr = np.array([[10, 20, 30],\n",
    "                [40, 50, 60],\n",
    "                [70, 80, 90]])\n",
    "element = arr[1, 2]\n",
    "print(element)"
   ]
  },
  {
   "cell_type": "code",
   "execution_count": 63,
   "id": "98c81b6b-171e-4d25-97ce-51caa8fb016a",
   "metadata": {},
   "outputs": [
    {
     "name": "stdout",
     "output_type": "stream",
     "text": [
      "[6 8 9]\n"
     ]
    }
   ],
   "source": [
    "# 28. Extract elements greater than 5 using boolean indexing.\n",
    "arr = np.array([2, 6, 3, 8, 1, 9])\n",
    "result = arr[arr > 5]\n",
    "print(result)"
   ]
  },
  {
   "cell_type": "code",
   "execution_count": 65,
   "id": "182a0cdf-7276-4d47-a5bb-b86c4009accf",
   "metadata": {},
   "outputs": [
    {
     "name": "stdout",
     "output_type": "stream",
     "text": [
      "[30 40 50 60]\n"
     ]
    }
   ],
   "source": [
    "# 29. Slice elements from index 2 to 5 (inclusive) from a NumPy array.\n",
    "arr = np.array([10, 20, 30, 40, 50, 60, 70])\n",
    "sliced = arr[2:6]  \n",
    "print(sliced)"
   ]
  },
  {
   "cell_type": "code",
   "execution_count": 66,
   "id": "c431b327-7ca8-40b2-aaf2-706c08ed9352",
   "metadata": {},
   "outputs": [
    {
     "name": "stdout",
     "output_type": "stream",
     "text": [
      "[[2 3]\n",
      " [5 6]]\n"
     ]
    }
   ],
   "source": [
    "# 30. Slice the sub-array [[2, 3], [5, 6]] from a 2D array.\n",
    "arr = np.array([[1, 2, 3],\n",
    "                [4, 5, 6],\n",
    "                [7, 8, 9]])\n",
    "sub_array = arr[0:2, 1:3]\n",
    "print(sub_array)"
   ]
  },
  {
   "cell_type": "markdown",
   "id": "34127a74-ed15-4c89-9cf0-fefb847fbe90",
   "metadata": {},
   "source": [
    "ADVANCED INDEXING"
   ]
  },
  {
   "cell_type": "code",
   "execution_count": 67,
   "id": "0caf18b3-0952-466c-a900-60b993ebdcd4",
   "metadata": {},
   "outputs": [
    {
     "name": "stdout",
     "output_type": "stream",
     "text": [
      "[30 50 70]\n"
     ]
    }
   ],
   "source": [
    "# 31. Extract elements based on indices from a 2D array.\n",
    "arr = np.array([[10, 20, 30],\n",
    "                [40, 50, 60],\n",
    "                [70, 80, 90]])\n",
    "row_indices = [0, 1, 2]\n",
    "col_indices = [2, 1, 0]\n",
    "selected_elements = arr[row_indices, col_indices]\n",
    "print(selected_elements)"
   ]
  },
  {
   "cell_type": "code",
   "execution_count": 68,
   "id": "0057a9da-36a0-4540-b18b-6cf949d14385",
   "metadata": {},
   "outputs": [
    {
     "name": "stdout",
     "output_type": "stream",
     "text": [
      "[10 15  7]\n"
     ]
    }
   ],
   "source": [
    "# 32. Filter elements greater than a threshold using boolean indexing. \n",
    "arr = np.array([4, 10, 2, 15, 7, 3])\n",
    "threshold = 5\n",
    "filtered = arr[arr > threshold]\n",
    "print(filtered)"
   ]
  },
  {
   "cell_type": "code",
   "execution_count": 71,
   "id": "fbc24eaf-dbeb-4df1-b590-2fa087e61040",
   "metadata": {},
   "outputs": [
    {
     "name": "stdout",
     "output_type": "stream",
     "text": [
      "3D array: [[[ 0  1  2  3]\n",
      "  [ 4  5  6  7]\n",
      "  [ 8  9 10 11]]\n",
      "\n",
      " [[12 13 14 15]\n",
      "  [16 17 18 19]\n",
      "  [20 21 22 23]]]\n",
      "Selected elements: [ 6 23]\n"
     ]
    }
   ],
   "source": [
    "# 33. Extract specific elements from a 3D array using separate index arrays.\n",
    "arr = np.arange(24).reshape((2, 3, 4))\n",
    "depth_indices = np.array([0, 1])\n",
    "row_indices   = np.array([1, 2])\n",
    "col_indices   = np.array([2, 3])\n",
    "selected = arr[depth_indices, row_indices, col_indices]\n",
    "print(\"3D array:\", arr)\n",
    "print(\"Selected elements:\", selected)"
   ]
  },
  {
   "cell_type": "code",
   "execution_count": 72,
   "id": "61d57e66-6466-4a89-8f8e-cd19dcfac1fa",
   "metadata": {},
   "outputs": [
    {
     "name": "stdout",
     "output_type": "stream",
     "text": [
      "[ 6 10 12]\n"
     ]
    }
   ],
   "source": [
    "# 34. Return elements satisfying two boolean conditions.\n",
    "arr = np.array([2, 6, 10, 16, 20, 3, 12])\n",
    "filtered = arr[(arr > 5) & (arr < 15)]\n",
    "print(filtered)"
   ]
  },
  {
   "cell_type": "code",
   "execution_count": 73,
   "id": "4b4334bf-13f0-49b8-b918-0bdb1ecfe345",
   "metadata": {},
   "outputs": [
    {
     "name": "stdout",
     "output_type": "stream",
     "text": [
      "Selected elements: [30 50 70]\n"
     ]
    }
   ],
   "source": [
    "# 35. Extract elements from a 2D array using separate row and column index arrays.\n",
    "arr = np.array([[10, 20, 30],\n",
    "                [40, 50, 60],\n",
    "                [70, 80, 90]])\n",
    "row_indices = np.array([0, 1, 2])\n",
    "col_indices = np.array([2, 1, 0])\n",
    "result = arr[row_indices, col_indices]\n",
    "print(\"Selected elements:\", result)"
   ]
  },
  {
   "cell_type": "markdown",
   "id": "c5642913-8895-4260-8bed-6195acc40cef",
   "metadata": {},
   "source": [
    "BROADCASTING"
   ]
  },
  {
   "cell_type": "code",
   "execution_count": 74,
   "id": "4d0b6e2b-af5b-4b54-8bba-731b1ec130bb",
   "metadata": {},
   "outputs": [
    {
     "name": "stdout",
     "output_type": "stream",
     "text": [
      "[[ 6  7  8]\n",
      " [ 9 10 11]]\n"
     ]
    }
   ],
   "source": [
    "# 36. Add scalar 5 to every element of an array using broadcasting. \n",
    "arr = np.array([[1, 2, 3],\n",
    "                [4, 5, 6]])\n",
    "result = arr + 5\n",
    "print(result)"
   ]
  },
  {
   "cell_type": "code",
   "execution_count": 75,
   "id": "1c70cec0-2e10-4931-a3a4-74ad13afaf12",
   "metadata": {},
   "outputs": [
    {
     "name": "stdout",
     "output_type": "stream",
     "text": [
      "[[ 2  4  6  8]\n",
      " [15 18 21 24]\n",
      " [36 40 44 48]]\n"
     ]
    }
   ],
   "source": [
    "# 37. Multiply each row of a (3, 4) array by corresponding elements of a (1, 3) array. \n",
    "arr = np.array([[1, 2, 3, 4],\n",
    "                [5, 6, 7, 8],\n",
    "                [9, 10, 11, 12]])\n",
    "row_scalars = np.array([[2, 3, 4]])  \n",
    "result = arr * row_scalars.T\n",
    "print(result)"
   ]
  },
  {
   "cell_type": "code",
   "execution_count": 76,
   "id": "b8250be9-1a8c-4121-9cae-b09e4c1a0a4f",
   "metadata": {},
   "outputs": [
    {
     "name": "stdout",
     "output_type": "stream",
     "text": [
      "[[101 102 103]\n",
      " [204 205 206]\n",
      " [307 308 309]\n",
      " [410 411 412]]\n"
     ]
    }
   ],
   "source": [
    "# 38. Add a (1, 4) array to every row of a (4, 3) array using broadcasting. \n",
    "arr = np.array([[1, 2, 3],\n",
    "                [4, 5, 6],\n",
    "                [7, 8, 9],\n",
    "                [10, 11, 12]])\n",
    "add_arr = np.array([[100, 200, 300, 400]])\n",
    "add_arr_reshaped = add_arr.T  \n",
    "result = arr + add_arr_reshaped\n",
    "print(result)"
   ]
  },
  {
   "cell_type": "code",
   "execution_count": 77,
   "id": "e861c1dd-2cd0-40e2-86cb-8fb1b63014af",
   "metadata": {},
   "outputs": [
    {
     "name": "stdout",
     "output_type": "stream",
     "text": [
      "[[11 21 31]\n",
      " [12 22 32]\n",
      " [13 23 33]]\n"
     ]
    }
   ],
   "source": [
    "# 39. Add two arrays of shapes (3, 1) and (1, 3) using broadcasting.\n",
    "a = np.array([[1],\n",
    "              [2],\n",
    "              [3]])\n",
    "b = np.array([[10, 20, 30]])\n",
    "result = a + b\n",
    "print(result)"
   ]
  },
  {
   "cell_type": "code",
   "execution_count": 79,
   "id": "20973642-a06e-402e-af2a-e829317bd5f3",
   "metadata": {},
   "outputs": [
    {
     "name": "stdout",
     "output_type": "stream",
     "text": [
      "[[ 58  64]\n",
      " [139 154]]\n"
     ]
    }
   ],
   "source": [
    "# 40. Handle shape incompatibility during multiplication between (2, 3) and (2, 2) arrays. \n",
    "a = np.array([[1, 2, 3],\n",
    "              [4, 5, 6]]) \n",
    "b = np.array([[7, 8],\n",
    "            [9, 10],\n",
    "            [11, 12]])\n",
    "result = np.dot(a, b)\n",
    "print(result)            "
   ]
  },
  {
   "cell_type": "markdown",
   "id": "2b59d450-4941-4ad1-ac7e-2cf95475d66b",
   "metadata": {},
   "source": [
    "AGGREGATIONS AND STATICS"
   ]
  },
  {
   "cell_type": "code",
   "execution_count": 81,
   "id": "83b399df-e0c9-4a9c-90f2-756b8ff5de74",
   "metadata": {},
   "outputs": [
    {
     "name": "stdout",
     "output_type": "stream",
     "text": [
      "Column-wise mean: [4. 5. 6.]\n"
     ]
    }
   ],
   "source": [
    "# 41. Calculate column-wise mean of a 2D array. \n",
    "arr = np.array([[1, 2, 3],\n",
    "                [4, 5, 6],\n",
    "                [7, 8, 9]])\n",
    "column_mean = np.mean(arr, axis=0)\n",
    "print(\"Column-wise mean:\", column_mean)"
   ]
  },
  {
   "cell_type": "code",
   "execution_count": 82,
   "id": "13fe2488-46e1-47ef-a75d-75b0197b6100",
   "metadata": {},
   "outputs": [
    {
     "name": "stdout",
     "output_type": "stream",
     "text": [
      "Maximum value in each row: [7 9 8]\n"
     ]
    }
   ],
   "source": [
    "# 42. Find maximum value in each row.\n",
    "arr = np.array([[3, 7, 1],\n",
    "                [9, 2, 5],\n",
    "                [6, 4, 8]])\n",
    "row_max = np.max(arr, axis=1)\n",
    "print(\"Maximum value in each row:\", row_max)"
   ]
  },
  {
   "cell_type": "code",
   "execution_count": 83,
   "id": "e9f006cb-93ac-408a-92e2-e545c063a408",
   "metadata": {},
   "outputs": [
    {
     "name": "stdout",
     "output_type": "stream",
     "text": [
      "Indices of max values in each column: [1 0 2]\n"
     ]
    }
   ],
   "source": [
    "# 43. Find indices of maximum values in each column. \n",
    "arr = np.array([[3, 7, 1],\n",
    "                [9, 2, 5],\n",
    "                [6, 4, 8]])\n",
    "column_max_indices = np.argmax(arr, axis=0)\n",
    "print(\"Indices of max values in each column:\", column_max_indices)"
   ]
  },
  {
   "cell_type": "code",
   "execution_count": 84,
   "id": "4124f889-52c6-474a-9c45-50f3cea3d3c2",
   "metadata": {},
   "outputs": [
    {
     "name": "stdout",
     "output_type": "stream",
     "text": [
      "[[ 3  5  7]\n",
      " [11 13 15]]\n"
     ]
    }
   ],
   "source": [
    "# 44. Apply a custom function to compute moving sum along rows. \n",
    "def moving_sum_rows(arr, window_size):\n",
    "    rows, cols = arr.shape\n",
    "    result = []\n",
    "    for row in arr:\n",
    "        if cols < window_size:\n",
    "            result.append([])\n",
    "        else:\n",
    "            row_sums = [np.sum(row[i:i+window_size]) for i in range(cols - window_size + 1)]\n",
    "            result.append(row_sums)\n",
    "    return np.array(result)\n",
    "arr = np.array([[1, 2, 3, 4],\n",
    "                [5, 6, 7, 8]])\n",
    "output = moving_sum_rows(arr, window_size=2)\n",
    "print(output)"
   ]
  },
  {
   "cell_type": "code",
   "execution_count": 86,
   "id": "9bce0582-283e-4c39-abf1-2bfb1f08f70a",
   "metadata": {},
   "outputs": [
    {
     "name": "stdout",
     "output_type": "stream",
     "text": [
      "[ True False  True]\n"
     ]
    }
   ],
   "source": [
    "# 45. Check if all elements in each column are even.\n",
    "arr = np.array([[2, 4, 6],\n",
    "                [8, 5, 10],\n",
    "                [12, 8, 14]])\n",
    "all_even_columns = np.all(arr % 2 == 0, axis=0)\n",
    "print( all_even_columns)"
   ]
  },
  {
   "cell_type": "markdown",
   "id": "dae95394-a753-4fb4-aad5-36a6d87e20be",
   "metadata": {},
   "source": [
    "RESHAPING AND FLATTENING"
   ]
  },
  {
   "cell_type": "code",
   "execution_count": 87,
   "id": "c97c1d23-77f9-4f61-82b4-c1ec08d47b22",
   "metadata": {},
   "outputs": [
    {
     "name": "stdout",
     "output_type": "stream",
     "text": [
      "[[ 1  2  3  4]\n",
      " [ 5  6  7  8]\n",
      " [ 9 10 11 12]]\n"
     ]
    }
   ],
   "source": [
    "# 46. Reshape a given array into dimensions m x n.\n",
    "arr = np.array([1, 2, 3, 4, 5, 6, 7, 8, 9, 10, 11, 12])\n",
    "reshaped = arr.reshape(3, 4)\n",
    "print(reshaped)"
   ]
  },
  {
   "cell_type": "code",
   "execution_count": 88,
   "id": "248634c8-ebdd-47d9-b82d-287cab0b011b",
   "metadata": {},
   "outputs": [
    {
     "name": "stdout",
     "output_type": "stream",
     "text": [
      "[1 2 3 4 5 6]\n"
     ]
    }
   ],
   "source": [
    "# 47. Return a flattened version of a given matrix.\n",
    "arr = np.array([[1, 2, 3],\n",
    "                [4, 5, 6]])\n",
    "flat_arr = arr.flatten()\n",
    "print(flat_arr)"
   ]
  },
  {
   "cell_type": "code",
   "execution_count": 89,
   "id": "93852a98-c8d7-4e9a-9d42-6bff9f7b0466",
   "metadata": {},
   "outputs": [
    {
     "name": "stdout",
     "output_type": "stream",
     "text": [
      "[[1 2]\n",
      " [3 4]\n",
      " [5 6]\n",
      " [7 8]]\n"
     ]
    }
   ],
   "source": [
    "# 48. Concatenate two arrays along a specified axis.\n",
    "a = np.array([[1, 2],\n",
    "              [3, 4]])\n",
    "b = np.array([[5, 6],\n",
    "              [7, 8]])\n",
    "result = np.concatenate((a, b), axis=0)\n",
    "print(result)"
   ]
  },
  {
   "cell_type": "code",
   "execution_count": 91,
   "id": "57004d9c-cdbc-4097-a8d7-d9a7fecc3349",
   "metadata": {},
   "outputs": [
    {
     "name": "stdout",
     "output_type": "stream",
     "text": [
      "[[1 2]\n",
      " [3 4]]\n",
      "[[5 6]\n",
      " [7 8]]\n"
     ]
    }
   ],
   "source": [
    "# 49. Split an array into sub-arrays along a specified axis.\n",
    "arr = np.array([[1, 2],\n",
    "                [3, 4],\n",
    "                [5, 6],\n",
    "                [7, 8]])\n",
    "split_arrays = np.split(arr, 2, axis=0)\n",
    "for i, sub in enumerate(split_arrays):\n",
    "    print(sub)"
   ]
  },
  {
   "cell_type": "code",
   "execution_count": 92,
   "id": "768365a1-8467-43df-9a31-3a597133cd5c",
   "metadata": {},
   "outputs": [
    {
     "name": "stdout",
     "output_type": "stream",
     "text": [
      "After insertion: [10 20 25 30 40]\n"
     ]
    }
   ],
   "source": [
    "# 50. Insert and delete elements at specified indices from an array. \n",
    "arr = np.array([10, 20, 30, 40])\n",
    "inserted = np.insert(arr, 2, 25)\n",
    "print(\"After insertion:\", inserted)"
   ]
  },
  {
   "cell_type": "markdown",
   "id": "fa6b73b8-0e8a-422a-90ad-9c0bcbdefef4",
   "metadata": {},
   "source": [
    "ELEMENT WISE OPERATIONS"
   ]
  },
  {
   "cell_type": "code",
   "execution_count": 93,
   "id": "3fe8698b-a5ad-43d4-a533-63ae4d7d6eaa",
   "metadata": {},
   "outputs": [
    {
     "name": "stdout",
     "output_type": "stream",
     "text": [
      "Result: [5 7 9]\n"
     ]
    }
   ],
   "source": [
    "# 51. Perform element-wise addition between two arrays. \n",
    "a = np.array([1, 2, 3])\n",
    "b = np.array([4, 5, 6])\n",
    "result = a + b  \n",
    "print(\"Result:\", result)"
   ]
  },
  {
   "cell_type": "code",
   "execution_count": 94,
   "id": "d3d403b9-adf5-4d8a-acaf-1dbf0056275c",
   "metadata": {},
   "outputs": [
    {
     "name": "stdout",
     "output_type": "stream",
     "text": [
      "Result: [ 9 18 27]\n"
     ]
    }
   ],
   "source": [
    "# 52. Perform element-wise subtraction: subtract arr2 from arr1.\n",
    "arr1 = np.array([10, 20, 30])\n",
    "arr2 = np.array([1, 2, 3])\n",
    "result = arr1 - arr2 \n",
    "print(\"Result:\", result)"
   ]
  },
  {
   "cell_type": "code",
   "execution_count": 95,
   "id": "49e00e92-4d00-4074-9239-9e78cf72a0cb",
   "metadata": {},
   "outputs": [
    {
     "name": "stdout",
     "output_type": "stream",
     "text": [
      "Result: [ 4 10 18]\n"
     ]
    }
   ],
   "source": [
    "# 53. Perform element-wise multiplication. \n",
    "a = np.array([1, 2, 3])\n",
    "b = np.array([4, 5, 6])\n",
    "result = a * b  \n",
    "print(\"Result:\", result)"
   ]
  },
  {
   "cell_type": "code",
   "execution_count": 96,
   "id": "a46dc539-6ff1-4900-8805-38c2c27a2240",
   "metadata": {},
   "outputs": [
    {
     "name": "stdout",
     "output_type": "stream",
     "text": [
      "Result: [5. 5. 6.]\n"
     ]
    }
   ],
   "source": [
    "# 54. Divide elements of arr1 by arr2 element-wise. \n",
    "arr1 = np.array([10, 20, 30])\n",
    "arr2 = np.array([2, 4, 5])\n",
    "result = arr1 / arr2  \n",
    "print(\"Result:\", result)"
   ]
  },
  {
   "cell_type": "code",
   "execution_count": 97,
   "id": "715d4eef-c66a-42f4-8842-cb02da38dbe0",
   "metadata": {},
   "outputs": [
    {
     "name": "stdout",
     "output_type": "stream",
     "text": [
      "Result: [8 9 4]\n"
     ]
    }
   ],
   "source": [
    "# 55. Perform element-wise exponentiation: arr1 ** arr2.\n",
    "arr1 = np.array([2, 3, 4])\n",
    "arr2 = np.array([3, 2, 1])\n",
    "result = arr1 ** arr2 \n",
    "print(\"Result:\", result)"
   ]
  },
  {
   "cell_type": "markdown",
   "id": "2363dbf3-b1a4-42e9-a582-9d181210d3a3",
   "metadata": {},
   "source": [
    "STRING OPERATIONS"
   ]
  },
  {
   "cell_type": "code",
   "execution_count": 98,
   "id": "1023717e-fee1-4fd3-b1b6-689fb6a034a5",
   "metadata": {},
   "outputs": [
    {
     "name": "stdout",
     "output_type": "stream",
     "text": [
      "Counts: [1 0 1 0]\n"
     ]
    }
   ],
   "source": [
    "# 56. Count occurrences of a substring in a string array.\n",
    "arr = np.array(['apple pie', 'banana pie', 'apple tart', 'grape'])\n",
    "counts = np.char.count(arr, 'apple')\n",
    "print(\"Counts:\", counts)"
   ]
  },
  {
   "cell_type": "code",
   "execution_count": 107,
   "id": "29b15696-a813-4d59-9e3f-fe8cb2eeaee8",
   "metadata": {},
   "outputs": [],
   "source": [
    "# 57. Extract uppercase characters from a string array. \n",
    "arr = np.array(['Hello World', 'NUMPy Library', 'OpenAI ChatGPT'])\n",
    "uppercase_chars = np.array([[char for char in string if char.isupper()] for string in arr])\n",
    "print(uppercase_chars)"
   ]
  },
  {
   "cell_type": "code",
   "execution_count": 108,
   "id": "0f2284dc-db23-43fe-8de7-e6548a42cabb",
   "metadata": {},
   "outputs": [
    {
     "name": "stdout",
     "output_type": "stream",
     "text": [
      "['I like bananas' 'Apples are tasty' 'Green bananas are sour']\n"
     ]
    }
   ],
   "source": [
    "# 58. Replace substring occurrences with another string in a string array. \n",
    "arr = np.array(['I like apples', 'Apples are tasty', 'Green apples are sour'])\n",
    "result = np.char.replace(arr, 'apples', 'bananas')\n",
    "print(result)"
   ]
  },
  {
   "cell_type": "code",
   "execution_count": 109,
   "id": "4b3fb648-e2b6-4d55-92f2-16a7d599d813",
   "metadata": {},
   "outputs": [
    {
     "name": "stdout",
     "output_type": "stream",
     "text": [
      "['HelloWorld' 'GoodMorning' 'OpenAI']\n"
     ]
    }
   ],
   "source": [
    "# 59. Concatenate strings in a NumPy array element-wise. \n",
    "arr1 = np.array(['Hello', 'Good', 'Open'])\n",
    "arr2 = np.array(['World', 'Morning', 'AI'])\n",
    "result = np.char.add(arr1, arr2)\n",
    "print(result)"
   ]
  },
  {
   "cell_type": "code",
   "execution_count": 110,
   "id": "5244c3a6-5809-4268-88b4-5ec61c66761c",
   "metadata": {},
   "outputs": [
    {
     "name": "stdout",
     "output_type": "stream",
     "text": [
      "Longest string length: 9\n"
     ]
    }
   ],
   "source": [
    "# 60. Find the length of the longest string in a string array.\n",
    "arr = np.array(['apple', 'banana', 'pineapple', 'kiwi'])\n",
    "lengths = np.char.str_len(arr)\n",
    "max_length = np.max(lengths)\n",
    "print(\"Longest string length:\", max_length)"
   ]
  },
  {
   "cell_type": "markdown",
   "id": "0613d276-b659-46a5-8802-3bc016b6d17d",
   "metadata": {},
   "source": [
    "DESCRIPTIVE STATISTICS"
   ]
  },
  {
   "cell_type": "code",
   "execution_count": 111,
   "id": "2aad1bfd-3fc8-46b4-9c28-f4648a1bc04d",
   "metadata": {},
   "outputs": [
    {
     "name": "stdout",
     "output_type": "stream",
     "text": [
      "Generated Array: [499 366 164 110  64 999 114 549 707 983  31 871 326 758 473 805  91 285\n",
      " 126 437 799 874  74 712 655 530 163 474 982 728 401 275 593 428 843 890\n",
      "   5 834 113 279 560 345 373 441  76  45 353 854 571 557 284 887 110   8\n",
      " 522 196 100 173 530 971  48 778 802 748 517 867 507 313 844 156 339 675\n",
      " 936 243   5 601  89 519 413 347 479 640  84 487 248 626 872 112 990 254\n",
      " 278 407 958 278 932 734 303 684 539 170]\n",
      "Mean: 471.88\n",
      "Median: 473.5\n",
      "Variance: 87296.20559999999\n",
      "Standard Deviation: 295.4593129349623\n"
     ]
    }
   ],
   "source": [
    "# 61. Generate 100 random integers (1–1000) and compute mean, median, variance, and std deviation. \n",
    "arr = np.random.randint(1, 1001, size=100)\n",
    "mean_val = np.mean(arr)\n",
    "median_val = np.median(arr)\n",
    "variance_val = np.var(arr)\n",
    "std_dev_val = np.std(arr)\n",
    "print(\"Generated Array:\", arr)\n",
    "print(\"Mean:\", mean_val)\n",
    "print(\"Median:\", median_val)\n",
    "print(\"Variance:\", variance_val)\n",
    "print(\"Standard Deviation:\", std_dev_val)\n"
   ]
  },
  {
   "cell_type": "code",
   "execution_count": 112,
   "id": "3198805a-ffe9-42dc-84f8-e45a2e9675e6",
   "metadata": {},
   "outputs": [
    {
     "name": "stdout",
     "output_type": "stream",
     "text": [
      "Generated Array: [  8  28  50  79  73  93  42 100   2  27  42  96  17   3  78  68  81   8\n",
      "  25  52  79  34  86  33  89   4  69  19   5  82  82  96  14  36  92  56\n",
      "  26  39  38  29   1  55   7  24  51  65  24  62  49  70]\n",
      "25th Percentile: 24.25\n",
      "75th Percentile: 76.75\n"
     ]
    }
   ],
   "source": [
    "# 62. Generate 50 random numbers (1–100) and compute the 25th and 75th percentiles.\n",
    "arr = np.random.randint(1, 101, size=50)\n",
    "percentile_25 = np.percentile(arr, 25)\n",
    "percentile_75 = np.percentile(arr, 75)\n",
    "print(\"Generated Array:\", arr)\n",
    "print(\"25th Percentile:\", percentile_25)\n",
    "print(\"75th Percentile:\", percentile_75)"
   ]
  },
  {
   "cell_type": "code",
   "execution_count": 113,
   "id": "b978e915-fd8a-4adb-86be-7367a1d84f81",
   "metadata": {},
   "outputs": [
    {
     "name": "stdout",
     "output_type": "stream",
     "text": [
      "Correlation coefficient matrix:\n",
      " [[1.         0.99589321]\n",
      " [0.99589321 1.        ]]\n",
      "Correlation coefficient between x and y: 0.995893206467704\n"
     ]
    }
   ],
   "source": [
    "# 63. Compute correlation coefficient between two arrays using np.corrcoef. \n",
    "x = np.array([10, 20, 30, 40, 50])\n",
    "y = np.array([15, 25, 35, 45, 60])\n",
    "corr_matrix = np.corrcoef(x, y)\n",
    "corr_coef = corr_matrix[0, 1]\n",
    "print(\"Correlation coefficient matrix:\\n\", corr_matrix)\n",
    "print(\"Correlation coefficient between x and y:\", corr_coef)"
   ]
  },
  {
   "cell_type": "code",
   "execution_count": 114,
   "id": "2c65e010-2136-4e4c-bc87-16ffb54ea4d8",
   "metadata": {},
   "outputs": [
    {
     "name": "stdout",
     "output_type": "stream",
     "text": [
      "Matrix A:\n",
      " [[1 2]\n",
      " [3 4]]\n",
      "Matrix B:\n",
      " [[5 6]\n",
      " [7 8]]\n",
      "Result of A · B:\n",
      " [[19 22]\n",
      " [43 50]]\n"
     ]
    }
   ],
   "source": [
    "# 64. Perform matrix multiplication using np.dot.\n",
    "A = np.array([[1, 2],\n",
    "              [3, 4]])\n",
    "B = np.array([[5, 6],\n",
    "              [7, 8]])\n",
    "result = np.dot(A, B)\n",
    "print(\"Matrix A:\\n\", A)\n",
    "print(\"Matrix B:\\n\", B)\n",
    "print(\"Result of A · B:\\n\", result)"
   ]
  },
  {
   "cell_type": "code",
   "execution_count": 117,
   "id": "fe1f5006-8f90-4722-8cce-41c64ed625a3",
   "metadata": {},
   "outputs": [
    {
     "name": "stdout",
     "output_type": "stream",
     "text": [
      "Array: [59 97 67 22 75 51 84 99 59 78 13 46 21 82 41 16 35 72  6 18  9 50 91 64\n",
      " 32 86 53 26 65  4 99 85 27 40 95 77 18 75 81  8 68 99  7 83 56  4  7 66\n",
      " 31 46]\n",
      "10th Percentile: 7.9\n",
      "50th Percentile (Median): 54.5\n",
      "90th Percentile: 91.4\n",
      "Q1 (25th percentile): 23.0\n",
      "Q2 (50th percentile - Median): 54.5\n",
      "Q3 (75th percentile): 77.75\n"
     ]
    }
   ],
   "source": [
    "# 65. Compute the 10th, 50th, and 90th percentiles and quartiles for an array of 50 integers. \n",
    "arr = np.random.randint(1, 101, size=50)\n",
    "p10 = np.percentile(arr, 10)\n",
    "p50 = np.percentile(arr, 50) \n",
    "p90 = np.percentile(arr, 90)\n",
    "q1 = np.percentile(arr, 25)\n",
    "q2 = np.percentile(arr, 50)  \n",
    "q3 = np.percentile(arr, 75)\n",
    "\n",
    "print(\"Array:\", arr)\n",
    "print(\"10th Percentile:\", p10)\n",
    "print(\"50th Percentile (Median):\", p50)\n",
    "print(\"90th Percentile:\", p90)\n",
    "print(\"Q1 (25th percentile):\", q1)\n",
    "print(\"Q2 (50th percentile - Median):\", q2)\n",
    "print(\"Q3 (75th percentile):\", q3)\n"
   ]
  },
  {
   "cell_type": "markdown",
   "id": "ccd3ef1e-196c-4ae4-a62a-47ad3b465805",
   "metadata": {},
   "source": [
    "SEARCH AND SORT"
   ]
  },
  {
   "cell_type": "code",
   "execution_count": 118,
   "id": "0d051221-cf36-4e5c-9bed-a1d1cf7ab419",
   "metadata": {},
   "outputs": [
    {
     "name": "stdout",
     "output_type": "stream",
     "text": [
      "Indices of 30: [2 5]\n"
     ]
    }
   ],
   "source": [
    "# 66. Find index of a specific element in an array. \n",
    "arr = np.array([10, 20, 30, 40, 50, 30])\n",
    "index = np.where(arr == 30)\n",
    "print(\"Indices of 30:\", index[0])"
   ]
  },
  {
   "cell_type": "code",
   "execution_count": 119,
   "id": "fa2d9f9b-cf2f-4123-9e29-0e6d0981546c",
   "metadata": {},
   "outputs": [
    {
     "name": "stdout",
     "output_type": "stream",
     "text": [
      "Original Array: [84 79  5 12 83 72 10 64 36 41]\n",
      "Sorted Array (Ascending): [ 5 10 12 36 41 64 72 79 83 84]\n"
     ]
    }
   ],
   "source": [
    "# 67. Sort a random array in ascending order.\n",
    "arr = np.random.randint(1, 101, size=10) \n",
    "sorted_arr = np.sort(arr)\n",
    "print(\"Original Array:\", arr)\n",
    "print(\"Sorted Array (Ascending):\", sorted_arr)"
   ]
  },
  {
   "cell_type": "code",
   "execution_count": 120,
   "id": "3fb7513b-9d31-46c3-b855-284e71bb5d55",
   "metadata": {},
   "outputs": [
    {
     "name": "stdout",
     "output_type": "stream",
     "text": [
      "Original Array: [21 43  5 49 30 25  5 50 36  2  9 10 28  3 32]\n",
      "Filtered Array (Elements > 20): [21 43 49 30 25 50 36 28 32]\n"
     ]
    }
   ],
   "source": [
    "# 68. Filter elements greater than 20.\n",
    "arr = np.random.randint(1, 51, size=15)\n",
    "filtered_arr = arr[arr > 20]\n",
    "print(\"Original Array:\", arr)\n",
    "print(\"Filtered Array (Elements > 20):\", filtered_arr)"
   ]
  },
  {
   "cell_type": "code",
   "execution_count": 121,
   "id": "d25cc7cd-2a05-45ff-bf3d-321e81c72be1",
   "metadata": {},
   "outputs": [
    {
     "name": "stdout",
     "output_type": "stream",
     "text": [
      "Original Array: [61  9 86 23 19 44 61 58 49 95 49 95 77 81 85]\n",
      "Filtered Array (Divisible by 3): [ 9 81]\n"
     ]
    }
   ],
   "source": [
    "# 69. Filter elements divisible by 3. \n",
    "arr = np.random.randint(1, 101, size=15)  \n",
    "filtered_arr = arr[arr % 3 == 0]\n",
    "print(\"Original Array:\", arr)\n",
    "print(\"Filtered Array (Divisible by 3):\", filtered_arr)"
   ]
  },
  {
   "cell_type": "code",
   "execution_count": 122,
   "id": "c8f91a67-4fd8-478d-ab46-9daa41047787",
   "metadata": {},
   "outputs": [
    {
     "name": "stdout",
     "output_type": "stream",
     "text": [
      "Original Array: [30 67 92 14 58 21 48 56 37  4 19 24 30 75 61]\n",
      "Filtered Array (20 to 40 inclusive): [30 21 37 24 30]\n"
     ]
    }
   ],
   "source": [
    "# 70. Filter elements between 20 and 40 (inclusive). \n",
    "arr = np.random.randint(1, 101, size=15)  \n",
    "filtered_arr = arr[(arr >= 20) & (arr <= 40)]\n",
    "print(\"Original Array:\", arr)\n",
    "print(\"Filtered Array (20 to 40 inclusive):\", filtered_arr)"
   ]
  },
  {
   "cell_type": "markdown",
   "id": "009a6f86-28f3-41ff-9822-c447c044fd73",
   "metadata": {},
   "source": [
    "BYTE ORDER AND SWAPPING"
   ]
  },
  {
   "cell_type": "code",
   "execution_count": 123,
   "id": "b3d18a31-bdf5-4000-ad32-618cf9556e69",
   "metadata": {},
   "outputs": [
    {
     "name": "stdout",
     "output_type": "stream",
     "text": [
      "Array: [1 2 3]\n",
      "Byte order: =\n"
     ]
    }
   ],
   "source": [
    "# 71. Check byte order of a NumPy array using dtype.byteorder. \n",
    "arr = np.array([1, 2, 3], dtype=np.int16)\n",
    "byte_order = arr.dtype.byteorder\n",
    "print(\"Array:\", arr)\n",
    "print(\"Byte order:\", byte_order)"
   ]
  },
  {
   "cell_type": "code",
   "execution_count": 124,
   "id": "e1cdd908-85a3-42b6-9f13-ab3205da5f68",
   "metadata": {},
   "outputs": [
    {
     "name": "stdout",
     "output_type": "stream",
     "text": [
      "Original array: [   1  256 1024]\n",
      "Original byte order: =\n",
      "Array after byte swap: [256   1   4]\n",
      "Byte order after swap: =\n"
     ]
    }
   ],
   "source": [
    "# 72. Perform in-place byte swapping using byteswap().\n",
    "arr = np.array([1, 256, 1024], dtype=np.int16)\n",
    "print(\"Original array:\", arr)\n",
    "print(\"Original byte order:\", arr.dtype.byteorder)\n",
    "arr.byteswap(inplace=True)\n",
    "print(\"Array after byte swap:\", arr)\n",
    "print(\"Byte order after swap:\", arr.dtype.byteorder)"
   ]
  },
  {
   "cell_type": "code",
   "execution_count": null,
   "id": "cc3e4cf6-2d50-4b01-a065-a7dbd85520f2",
   "metadata": {},
   "outputs": [],
   "source": []
  }
 ],
 "metadata": {
  "kernelspec": {
   "display_name": "Python [conda env:base] *",
   "language": "python",
   "name": "conda-base-py"
  },
  "language_info": {
   "codemirror_mode": {
    "name": "ipython",
    "version": 3
   },
   "file_extension": ".py",
   "mimetype": "text/x-python",
   "name": "python",
   "nbconvert_exporter": "python",
   "pygments_lexer": "ipython3",
   "version": "3.12.7"
  }
 },
 "nbformat": 4,
 "nbformat_minor": 5
}
